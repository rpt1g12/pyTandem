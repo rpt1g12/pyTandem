{
 "cells": [
  {
   "cell_type": "code",
   "execution_count": 4,
   "metadata": {
    "collapsed": false
   },
   "outputs": [],
   "source": [
    "from scipy.signal import coherence as msc\n",
    "from scipy.signal import welch as psdw\n",
    "from scipy import signal as sgl\n",
    "import numpy as np\n",
    "from lib.stats import *\n",
    "import matplotlib.pyplot as plt\n",
    "import matplotlib.ticker as ticker\n",
    "from matplotlib.colors import LogNorm\n",
    "from lib.matplotlib2tikz import save as tikz_save\n",
    "from os import system\n"
   ]
  },
  {
   "cell_type": "code",
   "execution_count": 23,
   "metadata": {
    "collapsed": false
   },
   "outputs": [
    {
     "name": "stdout",
     "output_type": "stream",
     "text": [
      "# of samples modified to:  256\n",
      "fmax: 3.1875  fmin: 0.02490234375\n",
      "nseg0= 150\n",
      "Overlap modified to  0.3 to fit data\n",
      "Overlap modified to  0.311 to fit data\n",
      "Overlap modified to  0.322 to fit data\n",
      "Overlap modified to  0.333 to fit data\n",
      "fmax: 3.1875  fmin: 0.0425\n",
      "# of samples modified to:  256\n",
      "fmax: 3.1875  fmin: 0.02490234375\n",
      "nseg0= 150\n",
      "Overlap modified to  0.3 to fit data\n",
      "Overlap modified to  0.311 to fit data\n",
      "Overlap modified to  0.322 to fit data\n",
      "Overlap modified to  0.333 to fit data\n",
      "fmax: 3.1875  fmin: 0.0425\n",
      "# of samples modified to:  256\n",
      "fmax: 3.1875  fmin: 0.02490234375\n",
      "nseg0= 150\n",
      "Overlap modified to  0.3 to fit data\n",
      "Overlap modified to  0.311 to fit data\n",
      "Overlap modified to  0.322 to fit data\n",
      "Overlap modified to  0.333 to fit data\n",
      "fmax: 3.1875  fmin: 0.0425\n",
      "# of samples modified to:  256\n",
      "fmax: 3.1875  fmin: 0.02490234375\n",
      "nseg0= 150\n",
      "Overlap modified to  0.3 to fit data\n",
      "Overlap modified to  0.311 to fit data\n",
      "Overlap modified to  0.322 to fit data\n",
      "Overlap modified to  0.333 to fit data\n",
      "fmax: 3.1875  fmin: 0.0425\n",
      "# of samples modified to:  256\n",
      "fmax: 3.1875  fmin: 0.02490234375\n",
      "nseg0= 150\n",
      "Overlap modified to  0.3 to fit data\n",
      "Overlap modified to  0.311 to fit data\n",
      "Overlap modified to  0.322 to fit data\n",
      "Overlap modified to  0.333 to fit data\n",
      "fmax: 3.1875  fmin: 0.0425\n",
      "# of samples modified to:  256\n",
      "fmax: 3.1875  fmin: 0.02490234375\n",
      "nseg0= 150\n",
      "Overlap modified to  0.3 to fit data\n",
      "Overlap modified to  0.311 to fit data\n",
      "Overlap modified to  0.322 to fit data\n",
      "Overlap modified to  0.333 to fit data\n",
      "fmax: 3.1875  fmin: 0.0425\n",
      "# of samples modified to:  256\n",
      "fmax: 3.1875  fmin: 0.02490234375\n",
      "nseg0= 150\n",
      "Overlap modified to  0.3 to fit data\n",
      "Overlap modified to  0.311 to fit data\n",
      "Overlap modified to  0.322 to fit data\n",
      "Overlap modified to  0.333 to fit data\n",
      "fmax: 3.1875  fmin: 0.0425\n",
      "# of samples modified to:  256\n",
      "fmax: 3.1875  fmin: 0.02490234375\n",
      "nseg0= 150\n",
      "Overlap modified to  0.3 to fit data\n",
      "Overlap modified to  0.311 to fit data\n",
      "Overlap modified to  0.322 to fit data\n",
      "Overlap modified to  0.333 to fit data\n",
      "fmax: 3.1875  fmin: 0.0425\n",
      "# of samples modified to:  256\n",
      "fmax: 3.1875  fmin: 0.02490234375\n",
      "nseg0= 150\n",
      "Overlap modified to  0.3 to fit data\n",
      "Overlap modified to  0.311 to fit data\n",
      "Overlap modified to  0.322 to fit data\n",
      "Overlap modified to  0.333 to fit data\n",
      "fmax: 3.1875  fmin: 0.0425\n",
      "# of samples modified to:  256\n",
      "fmax: 3.1875  fmin: 0.02490234375\n",
      "nseg0= 150\n",
      "Overlap modified to  0.3 to fit data\n",
      "Overlap modified to  0.311 to fit data\n",
      "Overlap modified to  0.322 to fit data\n",
      "Overlap modified to  0.333 to fit data\n",
      "fmax: 3.1875  fmin: 0.0425\n"
     ]
    },
    {
     "name": "stderr",
     "output_type": "stream",
     "text": [
      "/home/rpt1g12/anaconda3/lib/python3.4/site-packages/matplotlib/collections.py:590: FutureWarning: elementwise comparison failed; returning scalar instead, but in the future will perform elementwise comparison\n",
      "  if self._edgecolors == str('face'):\n"
     ]
    },
    {
     "data": {
      "text/plain": [
       "0"
      ]
     },
     "execution_count": 23,
     "metadata": {},
     "output_type": "execute_result"
    }
   ],
   "source": [
    "for nprob in range(1,11):\n",
    "    plt.clf()\n",
    "    cpre='strprb'\n",
    "    cprob=str(nprob).zfill(2)\n",
    "    savepath='/home/rpt1g12/Desktop/circ/'+cpre+cprob+'.png'\n",
    "    x=np.loadtxt('signalData/clean/AoA20/circLine/straight/circ0'+cprob+'.dat',skiprows=1,unpack=True,usecols=range(102))\n",
    "    lzee=x.shape[0];lzes=1;lze=lzee-lzes\n",
    "    n=150\n",
    "    for i in range(lzes,lzee):\n",
    "        x[i,:]=x[i,:]-avg(x[i,:],x[0,:])\n",
    "        if (i==lzes):\n",
    "            out1,out2,nsam,fsam=rsample(x[i,:],x[0,:],n,verbose=True)\n",
    "            z=np.zeros((lzee,len(out1)))\n",
    "            z[i,:]=out1[:];z[0,:]=out2[:]\n",
    "        else:\n",
    "            z[i,:],out2,nsam,fsam=rsample(x[i,:],x[0,:],n)\n",
    "    lzee=z.shape[0];lzes=1;lze=lzee-lzes\n",
    "\n",
    "    plot=0\n",
    "    ovlp=0.3;nwin=2;\n",
    "\n",
    "    nseg,novlp,ntot,fmax,fmin=defWindows(z,nwin,ovlp,plot)\n",
    "\n",
    "    psd=1\n",
    "    if(psd==0):\n",
    "        for m in range(9):\n",
    "            j=int(round(12.5*m))+1\n",
    "            for i in range(lzes,lzee):\n",
    "                ff,cpp=msc(z[j,0:ntot],z[i,0:ntot],fs=fsam,nperseg=nseg,noverlap=novlp)\n",
    "                if (i==lzes and j==lzes):\n",
    "                    Cpp=np.zeros((9,lze,ff.shape[0]))\n",
    "                Cpp[m,i-1,:]=cpp\n",
    "\n",
    "\n",
    "    else:\n",
    "        for i in range(lzes,lzee):\n",
    "            ff,cpp=psdw(z[i,0:ntot],fs=fsam,nperseg=nseg,noverlap=novlp,scaling='spectrum')\n",
    "            if (i==lzes):\n",
    "                Cpp=np.zeros((lze,ff.shape[0]))\n",
    "            vscl=(np.var(z[i,0:ntot]))\n",
    "            Cpp[i-1,:]=cpp/vscl\n",
    "\n",
    "    zz=[i*(2.0/100) for i in range(101)]\n",
    "    X, Y = np.meshgrid(ff, zz)\n",
    "    i=7;fmax=1\n",
    "    m=i\n",
    "\n",
    "    if (psd==1):\n",
    "        v = []\n",
    "        exp0 = -3;exp1=0\n",
    "        nlev = 50\n",
    "        for E in range(exp0,exp1):\n",
    "            v = np.concatenate((v[:-1],np.linspace(10**E,10**(E+1),nlev)))\n",
    "        Z = np.clip(Cpp, v[0],v[-1])\n",
    "        CS=plt.contourf(X,Y,Z,norm = LogNorm(vmin=v[0],clip=False),levels=v)#,norm=LogNorm())#,vmin=cmin)\n",
    "        def fmt(x, pos):\n",
    "            a, b = '{:.2e}'.format(x).split('e')\n",
    "            b = int(b)\n",
    "            return r'${} \\times 10^{{{}}}$'.format(a, b)\n",
    "        v = []\n",
    "        nlev = 2\n",
    "        for E in range(exp0,exp1):\n",
    "            v = np.concatenate((v[:-1],np.linspace(10**E,10**(E+1),nlev)))\n",
    "        cbar=plt.colorbar(CS, format=ticker.FuncFormatter(fmt), spacing='proportional',ticks=v)\n",
    "        cbar.ax.set_ylabel('PSD')\n",
    "    else:\n",
    "        if (i%2==0):\n",
    "            countm=i//2+1\n",
    "            cs=\"Middle \"\n",
    "            cs+=str(countm)\n",
    "        else:\n",
    "            if((i//2)%2==0):\n",
    "                countp=i//4+1\n",
    "                cs=\"Peak \"\n",
    "                cs+=str(countp)\n",
    "            else:\n",
    "                countt=i//4+1\n",
    "                cs=\"Trough \"\n",
    "                cs+=str(countt)\n",
    "        v = np.linspace(0.0, 1.0, 11, endpoint=True)\n",
    "        CS=plt.contourf(X[:,:],Y[:,:],Cpp[m,:,:],v)\n",
    "        plt.title(cs+' used as base Signal')\n",
    "        cbar=plt.colorbar(CS)\n",
    "        cbar.ax.set_ylabel('MSC')\n",
    "\n",
    "    plt.ylabel(r'$\\frac{z}{L_c \\lambda_{LE}}$',fontsize=25)\n",
    "    plt.xlabel(r'$f^*$',fontsize=16)\n",
    "    plt.xlim(0,fmax)\n",
    "    plt.savefig(savepath,dpi=300)\n",
    "    \n",
    "    \n",
    "system('montage -mode concatenate -tile 4x3 /home/rpt1g12/Desktop/circ/'+cpre+\n",
    "       '*.png /home/rpt1g12/Desktop/circ/out'+cpre+'.png')"
   ]
  },
  {
   "cell_type": "code",
   "execution_count": 10,
   "metadata": {
    "collapsed": false
   },
   "outputs": [
    {
     "data": {
      "text/plain": [
       "0"
      ]
     },
     "execution_count": 10,
     "metadata": {},
     "output_type": "execute_result"
    }
   ],
   "source": []
  },
  {
   "cell_type": "code",
   "execution_count": null,
   "metadata": {
    "collapsed": true
   },
   "outputs": [],
   "source": []
  }
 ],
 "metadata": {
  "kernelspec": {
   "display_name": "Python 3",
   "language": "python",
   "name": "python3"
  },
  "language_info": {
   "codemirror_mode": {
    "name": "ipython",
    "version": 3
   },
   "file_extension": ".py",
   "mimetype": "text/x-python",
   "name": "python",
   "nbconvert_exporter": "python",
   "pygments_lexer": "ipython3",
   "version": "3.4.3"
  }
 },
 "nbformat": 4,
 "nbformat_minor": 0
}
