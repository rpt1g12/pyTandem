{
 "cells": [
  {
   "cell_type": "code",
   "execution_count": 1,
   "metadata": {
    "collapsed": true
   },
   "outputs": [],
   "source": [
    "import numpy as np\n",
    "from scipy.signal import coherence as msc\n",
    "from scipy.signal import welch as psdw\n",
    "from scipy import signal as sgl\n",
    "import matplotlib.pyplot as plt\n",
    "import matplotlib\n",
    "from lib.stats import *\n",
    "from lib.matplotlib2tikz import save as tikz_save"
   ]
  },
  {
   "cell_type": "code",
   "execution_count": 2,
   "metadata": {
    "collapsed": false
   },
   "outputs": [],
   "source": [
    "x=np.loadtxt('spectralData/q.dat',skiprows=0,unpack=True,usecols=range(0))"
   ]
  },
  {
   "cell_type": "code",
   "execution_count": 3,
   "metadata": {
    "collapsed": true
   },
   "outputs": [],
   "source": [
    "plt.plot(x);plt.show()"
   ]
  },
  {
   "cell_type": "code",
   "execution_count": 4,
   "metadata": {
    "collapsed": false
   },
   "outputs": [
    {
     "name": "stdout",
     "output_type": "stream",
     "text": [
      "50\n"
     ]
    }
   ],
   "source": [
    "ntotal=len(x);print(ntotal)\n",
    "t=np.zeros(ntotal)\n",
    "for i in range(ntotal):\n",
    "    t[i]=i*0.02+140.0\n",
    "    x[i]=x[i]-x.mean()\n"
   ]
  },
  {
   "cell_type": "code",
   "execution_count": 5,
   "metadata": {
    "collapsed": true
   },
   "outputs": [],
   "source": [
    "plt.plot(t,x);plt.show()"
   ]
  },
  {
   "cell_type": "code",
   "execution_count": 6,
   "metadata": {
    "collapsed": true
   },
   "outputs": [],
   "source": [
    "X=np.fft.fft(x)"
   ]
  },
  {
   "cell_type": "code",
   "execution_count": 7,
   "metadata": {
    "collapsed": false
   },
   "outputs": [],
   "source": [
    "XPSD=((np.absolute(X))**2)/ntotal"
   ]
  },
  {
   "cell_type": "code",
   "execution_count": 8,
   "metadata": {
    "collapsed": true
   },
   "outputs": [],
   "source": [
    "plt.plot(XPSD[:25])\n",
    "plt.xlabel('f*')\n",
    "plt.ylabel('PSD of Q')\n",
    "plt.show()"
   ]
  },
  {
   "cell_type": "code",
   "execution_count": 9,
   "metadata": {
    "collapsed": true
   },
   "outputs": [],
   "source": [
    "path='signalData/'\n",
    "filename='pshed';ext='.dat'\n",
    "tikzpath='/home/rpt1g12/Dropbox/phd/figures/wleResults/'\n",
    "dataset=path+filename+ext\n",
    "t=np.loadtxt(dataset,skiprows=1,unpack=True,usecols=range(8,9))\n",
    "cp=np.loadtxt(dataset,skiprows=1,unpack=True,usecols=range(6,7))\n",
    "cpn,tn,nsam,fsam=rsample(cp-cp.mean(),t*0.02,1000)\n",
    "plt.plot(tn,cpn);plt.show()\n",
    "nwin=8\n",
    "ff,pcp=psdw(cpn,fs=fsam,nperseg=nsam/nwin,noverlap=nsam*0.65/nwin)\n",
    "\n",
    "plt.loglog(ff,pcp)\n",
    "plt.xlim(0,25)\n",
    "plt.ylabel(r'PSD')\n",
    "plt.xlabel(r'$f^*$')\n",
    "plt.grid()\n",
    "plt.show()"
   ]
  },
  {
   "cell_type": "code",
   "execution_count": null,
   "metadata": {
    "collapsed": true
   },
   "outputs": [],
   "source": []
  }
 ],
 "metadata": {
  "kernelspec": {
   "display_name": "Python 3",
   "language": "python",
   "name": "python3"
  },
  "language_info": {
   "codemirror_mode": {
    "name": "ipython",
    "version": 3
   },
   "file_extension": ".py",
   "mimetype": "text/x-python",
   "name": "python",
   "nbconvert_exporter": "python",
   "pygments_lexer": "ipython3",
   "version": "3.4.4"
  }
 },
 "nbformat": 4,
 "nbformat_minor": 0
}
