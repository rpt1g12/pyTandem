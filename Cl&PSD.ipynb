{
 "cells": [
  {
   "cell_type": "code",
   "execution_count": 1,
   "metadata": {
    "collapsed": true
   },
   "outputs": [],
   "source": [
    "import numpy as np\n",
    "from scipy.signal import coherence as msc\n",
    "from scipy.signal import welch as psdw\n",
    "from scipy import signal as sgl\n",
    "from scipy import interpolate\n",
    "import matplotlib.pyplot as plt\n",
    "import matplotlib\n",
    "from lib.stats import *\n",
    "from lib.stats import myDFT as myDFT\n",
    "from lib.matplotlib2tikz import save as tikz_save"
   ]
  },
  {
   "cell_type": "code",
   "execution_count": 31,
   "metadata": {
    "collapsed": false
   },
   "outputs": [],
   "source": [
    "dataset='clData/clean/A15W11AoA06.dat'; show=1\n",
    "n,tin,clin,cdin=np.loadtxt(dataset,skiprows=1,unpack=True)\n",
    "if (show==1):\n",
    "    plt.plot(tin,clin,'r-s');\n",
    "    plt.show()"
   ]
  },
  {
   "cell_type": "code",
   "execution_count": 35,
   "metadata": {
    "collapsed": false
   },
   "outputs": [
    {
     "name": "stdout",
     "output_type": "stream",
     "text": [
      "# of samples modified to:  1024\n",
      "fmax: 12.7887341128  fmin: 0.0249779963141\n"
     ]
    }
   ],
   "source": [
    "clh=0.555\n",
    "l0=np.where(tin>60.0)[0][0]\n",
    "t0=tin[l0:];cl0=clin[l0:];cd0=cdin[l0:]\n",
    "cln,tn,nsam,fsam=rsample(cl0,t0,800,verbose=True)\n",
    "cdn,tn,nsam,fsam=rsample(cd0,t0,800)\n",
    "plt.plot(tn,cln);\n",
    "plt.plot([tn[0],tn[-1]],[clh,clh],'k',linewidth=2)\n",
    "plt.plot([tn[0],tn[-1]],[cln.mean(),cln.mean()],'g-.',linewidth=2)\n",
    "plt.xlabel(r'$t^*$',fontsize=20)\n",
    "plt.ylabel(r'$C_l$',fontsize=20)\n",
    "plt.show()"
   ]
  },
  {
   "cell_type": "code",
   "execution_count": 13,
   "metadata": {
    "collapsed": false
   },
   "outputs": [],
   "source": [
    "#plt.plot(t0,cl0,'b-o');\n",
    "dataset='clData/clean/A15W11AoA20_oldGrid.dat'\n",
    "no,to,clo,cdo=np.loadtxt(dataset,skiprows=1,unpack=True)\n",
    "plt.plot(to,clo,'r');\n",
    "clm=avg(cln,tn)\n",
    "plt.plot(tn,cln);\n",
    "plt.plot([tn[0],tn[-1]],[0.72,0.72],'k',linewidth=2)\n",
    "plt.plot([tn[0],tn[-1]],[cln.mean(),cln.mean()],'g-.',linewidth=2)\n",
    "plt.plot([150,150],[0.4,0.9],'r:')\n",
    "#plt.xlim(tn[0],tn[-1])\n",
    "plt.xlim(150,160)\n",
    "plt.xlabel(r'$t^*$',fontsize=20)\n",
    "plt.ylabel(r'$C_l$',fontsize=20)\n",
    "plt.show()"
   ]
  },
  {
   "cell_type": "code",
   "execution_count": 6,
   "metadata": {
    "collapsed": false
   },
   "outputs": [],
   "source": [
    "nw=1;\n",
    "ff,pcl=psdw(cln,fs=fsam,nperseg=nsam/nw,noverlap=0)"
   ]
  },
  {
   "cell_type": "code",
   "execution_count": 7,
   "metadata": {
    "collapsed": false
   },
   "outputs": [],
   "source": [
    "plt.semilogx(ff,pcl)\n",
    "plt.xlim(0,10)\n",
    "plt.grid(b=True, which='major', color='k', linestyle='--')\n",
    "plt.grid(b=True, which='minor', color='k', linestyle=':')\n",
    "plt.xlabel(r'$f^*$',fontsize=20)\n",
    "plt.ylabel(r'$PSD$',fontsize=20)\n",
    "plt.show()"
   ]
  },
  {
   "cell_type": "code",
   "execution_count": 14,
   "metadata": {
    "collapsed": false
   },
   "outputs": [
    {
     "ename": "ValueError",
     "evalue": "operands could not be broadcast together with shapes (4096,) (3117,) ",
     "output_type": "error",
     "traceback": [
      "\u001b[1;31m---------------------------------------------------------------------------\u001b[0m",
      "\u001b[1;31mValueError\u001b[0m                                Traceback (most recent call last)",
      "\u001b[1;32m<ipython-input-14-9eb97d4721f1>\u001b[0m in \u001b[0;36m<module>\u001b[1;34m()\u001b[0m\n\u001b[1;32m----> 1\u001b[1;33m \u001b[0mclerr\u001b[0m\u001b[1;33m=\u001b[0m\u001b[1;33m(\u001b[0m\u001b[0mcln\u001b[0m\u001b[1;33m-\u001b[0m\u001b[0mclo\u001b[0m\u001b[1;33m)\u001b[0m\u001b[1;33m/\u001b[0m\u001b[0mclo\u001b[0m\u001b[1;33m\u001b[0m\u001b[0m\n\u001b[0m",
      "\u001b[1;31mValueError\u001b[0m: operands could not be broadcast together with shapes (4096,) (3117,) "
     ]
    }
   ],
   "source": [
    "clerr=(cln-clo)/clo"
   ]
  },
  {
   "cell_type": "code",
   "execution_count": 15,
   "metadata": {
    "collapsed": true
   },
   "outputs": [],
   "source": [
    "l1=np.where(tin>160.0)[0][0]"
   ]
  },
  {
   "cell_type": "code",
   "execution_count": 26,
   "metadata": {
    "collapsed": false
   },
   "outputs": [
    {
     "name": "stdout",
     "output_type": "stream",
     "text": [
      "# of samples modified to:  512\n",
      "fmax: 25.5650833992  fmin: 0.0998636070281\n",
      "# of samples modified to:  512\n",
      "fmax: 25.5621420174  fmin: 0.0998521172557\n"
     ]
    }
   ],
   "source": [
    "l1=np.where(tin<160.0)[0][-1];l0=np.where(tin>150.0)[0][0]\n",
    "cl1=clin[l0:l1];t1=tin[l0:l1];cl1n,t1n,nsam,fsam=rsample(cl1,t1,500,verbose=True)\n",
    "l1=np.where(to<160.0)[0][-1];l0=np.where(to>150.0)[0][0]\n",
    "clo1=clo[l0:l1];to1=to[l0:l1];clo1n,to1n,nsam,fsam=rsample(clo1,to1,500,verbose=True)\n",
    "plt.plot(t1n,cl1n,'x',to1n,clo1n,'o');plt.show()"
   ]
  },
  {
   "cell_type": "code",
   "execution_count": 28,
   "metadata": {
    "collapsed": false
   },
   "outputs": [],
   "source": [
    "clerr=(cl1n-clo1n)/clo1n"
   ]
  },
  {
   "cell_type": "code",
   "execution_count": 29,
   "metadata": {
    "collapsed": false
   },
   "outputs": [],
   "source": [
    "plt.plot(to1n,clerr)\n",
    "plt.show()"
   ]
  },
  {
   "cell_type": "code",
   "execution_count": null,
   "metadata": {
    "collapsed": true
   },
   "outputs": [],
   "source": []
  }
 ],
 "metadata": {
  "kernelspec": {
   "display_name": "Python 3",
   "language": "python",
   "name": "python3"
  },
  "language_info": {
   "codemirror_mode": {
    "name": "ipython",
    "version": 3
   },
   "file_extension": ".py",
   "mimetype": "text/x-python",
   "name": "python",
   "nbconvert_exporter": "python",
   "pygments_lexer": "ipython3",
   "version": "3.4.3"
  }
 },
 "nbformat": 4,
 "nbformat_minor": 0
}
