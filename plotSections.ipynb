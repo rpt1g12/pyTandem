{
 "cells": [
  {
   "cell_type": "code",
   "execution_count": 1,
   "metadata": {
    "collapsed": true
   },
   "outputs": [],
   "source": [
    "import numpy as np\n",
    "from scipy.signal import coherence as msc\n",
    "from scipy.signal import welch as psdw\n",
    "from scipy import signal as sgl\n",
    "import matplotlib.pyplot as plt\n",
    "import matplotlib\n",
    "from lib.stats import *\n",
    "from lib.matplotlib2tikz import save as tikz_save"
   ]
  },
  {
   "cell_type": "code",
   "execution_count": 12,
   "metadata": {
    "collapsed": true
   },
   "outputs": [],
   "source": [
    "path='sections/clean/AoA20/cf/'\n",
    "filename='0cfSec';ext='0.dat'\n",
    "tikzpath='/home/rpt1g12/Dropbox/phd/figures/wleResults/'"
   ]
  },
  {
   "cell_type": "code",
   "execution_count": 13,
   "metadata": {
    "collapsed": false
   },
   "outputs": [
    {
     "name": "stdout",
     "output_type": "stream",
     "text": [
      "file encoding: UTF-8\n",
      "Problem during transformation, continuing with original data\n",
      "Problem during transformation, continuing with original data\n",
      "Problem during transformation, continuing with original data\n",
      "Problem during transformation, continuing with original data\n",
      "Problem during transformation, continuing with original data\n",
      "Problem during transformation, continuing with original data\n",
      "Problem during transformation, continuing with original data\n",
      "Problem during transformation, continuing with original data\n",
      "Problem during transformation, continuing with original data\n",
      "=========================================================\n",
      "Please add the following line to your LaTeX preamble:\n",
      "\n",
      "\\usepackage{pgfplots}\n",
      "=========================================================\n"
     ]
    }
   ],
   "source": [
    "opt=4\n",
    "if (opt==0):\n",
    "    secs=range(9)\n",
    "elif (opt==1):\n",
    "    secs=[0,2,4,6,8]\n",
    "elif (opt==2):\n",
    "    secs=[1,5]\n",
    "elif (opt==3):    \n",
    "    secs=[3,7]\n",
    "elif (opt==4):    \n",
    "    secs=[0]\n",
    "elif (opt==5): \n",
    "    secs=[1,3,5,7]\n",
    "for i in secs:\n",
    "    m=int(round(12.5*i))\n",
    "    if (i%2==0):\n",
    "        countm=i//2+1\n",
    "        cs=\"M\"\n",
    "        cs+=str(countm)\n",
    "    else:\n",
    "        if((i//2)%2==0):\n",
    "            countp=i//4+1\n",
    "            cs=\"P\"\n",
    "            cs+=str(countp)\n",
    "        else:\n",
    "            countt=i//4+1\n",
    "            cs=\"T\"\n",
    "            cs+=str(countt)\n",
    "    dataset=path+filename+cs+ext\n",
    "    cf=np.loadtxt(dataset,skiprows=1,unpack=True,usecols=range(9,10))\n",
    "    x=np.loadtxt(dataset,skiprows=1,unpack=True,usecols=range(11,14))\n",
    "    plt.plot(x[0,:],cf,label=cs)\n",
    "    plt.xlabel(r'$x/L_c$')\n",
    "    plt.ylabel(r'$<C_f>$')\n",
    "    plt.legend()\n",
    "\n",
    "    plt.grid(True)\n",
    "tikz_save(tikzpath+'cwleCf20.tex',\n",
    "          figurewidth = '\\\\tikzw',\n",
    "          figureheight = '\\\\tikzh')\n",
    "plt.gca().invert_yaxis()\n",
    "plt.show()\n"
   ]
  },
  {
   "cell_type": "code",
   "execution_count": null,
   "metadata": {
    "collapsed": true
   },
   "outputs": [],
   "source": []
  }
 ],
 "metadata": {
  "kernelspec": {
   "display_name": "Python 3",
   "language": "python",
   "name": "python3"
  },
  "language_info": {
   "codemirror_mode": {
    "name": "ipython",
    "version": 3
   },
   "file_extension": ".py",
   "mimetype": "text/x-python",
   "name": "python",
   "nbconvert_exporter": "python",
   "pygments_lexer": "ipython3",
   "version": "3.4.3"
  }
 },
 "nbformat": 4,
 "nbformat_minor": 0
}
