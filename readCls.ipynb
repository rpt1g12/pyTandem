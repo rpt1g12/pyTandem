{
 "cells": [
  {
   "cell_type": "code",
   "execution_count": 15,
   "metadata": {
    "collapsed": true
   },
   "outputs": [],
   "source": [
    "import numpy as np\n",
    "from scipy.signal import coherence as msc\n",
    "from scipy.signal import welch as psdw\n",
    "from scipy import signal as sgl\n",
    "from scipy import interpolate\n",
    "import matplotlib.pyplot as plt\n",
    "import matplotlib\n",
    "from lib.stats import *\n",
    "from lib.stats import myDFT as myDFT\n",
    "from lib.matplotlib2tikz import save as tikz_save"
   ]
  },
  {
   "cell_type": "code",
   "execution_count": 2,
   "metadata": {
    "collapsed": true
   },
   "outputs": [],
   "source": [
    "dataset='signalData/clwz.dat'\n",
    "n,tt,cl,cd=np.loadtxt(dataset,skiprows=1,unpack=True)\n",
    "dataset='signalData/clNLSB.dat'\n",
    "n,tt,cl0,cd0=np.loadtxt(dataset,skiprows=1,unpack=True)\n",
    "dataset='signalData/clLSB.dat'\n",
    "n,tt,cl1,cd1=np.loadtxt(dataset,skiprows=1,unpack=True)"
   ]
  },
  {
   "cell_type": "code",
   "execution_count": 15,
   "metadata": {
    "collapsed": false
   },
   "outputs": [
    {
     "name": "stdout",
     "output_type": "stream",
     "text": [
      "file encoding: UTF-8\n",
      "Problem during transformation, continuing with original data\n",
      "Problem during transformation, continuing with original data\n",
      "Problem during transformation, continuing with original data\n",
      "Problem during transformation, continuing with original data\n",
      "Problem during transformation, continuing with original data\n",
      "Problem during transformation, continuing with original data\n",
      "Problem during transformation, continuing with original data\n",
      "Problem during transformation, continuing with original data\n",
      "Problem during transformation, continuing with original data\n",
      "Problem during transformation, continuing with original data\n",
      "Problem during transformation, continuing with original data\n",
      "=========================================================\n",
      "Please add the following line to your LaTeX preamble:\n",
      "\n",
      "\\usepackage{pgfplots}\n",
      "=========================================================\n"
     ]
    }
   ],
   "source": [
    "tikzpath='/home/rpt1g12/Dropbox/phd/figures/wleResults/'\n",
    "var=cl/cd;var1=cl1/cd1;var0=cl0/cd0\n",
    "plt.plot(tt,var,'b',label='Full Span')\n",
    "plt.plot(tt,var0,'g',label='w/o LSB')\n",
    "plt.plot(tt,var1,'r',label='w/ LSB')\n",
    "plt.xlabel('$t^*$')\n",
    "plt.xlim(tt.min(),tt.max()+15)\n",
    "plt.ylabel('$C_l$')\n",
    "plt.legend()\n",
    "tikz_save(tikzpath+'cwleeffh20.tex',\n",
    "          figurewidth = '\\\\tikzw',\n",
    "          figureheight = '\\\\tikzh')\n",
    "plt.show()"
   ]
  },
  {
   "cell_type": "code",
   "execution_count": 20,
   "metadata": {
    "collapsed": false
   },
   "outputs": [],
   "source": [
    "clm=[0,0,0];cdm=[0,0,0];vm=[0,0,0]\n",
    "clm[0]=cl.mean();clm[1]=cl0.mean();clm[2]=cl1.mean()\n",
    "cdm[0]=cd.mean();cdm[1]=cd0.mean();cdm[2]=cd1.mean()\n",
    "var=cl/cd;var1=cl1/cd1;var0=cl0/cd0\n",
    "vm[0]=var.mean();vm[1]=var0.mean();vm[2]=var1.mean()"
   ]
  },
  {
   "cell_type": "code",
   "execution_count": 22,
   "metadata": {
    "collapsed": false
   },
   "outputs": [
    {
     "data": {
      "text/plain": [
       "[1.9525038267963468, 1.8967216366763433, 2.0089669495331317]"
      ]
     },
     "execution_count": 22,
     "metadata": {},
     "output_type": "execute_result"
    }
   ],
   "source": [
    "print(clm)\n",
    "print(cdm)\n",
    "print(vm)"
   ]
  },
  {
   "cell_type": "code",
   "execution_count": 29,
   "metadata": {
    "collapsed": false
   },
   "outputs": [],
   "source": [
    "dataset='clData/clean/A15W11AoA20.dat'\n",
    "tikzpath='/home/rpt1g12/Dropbox/phd/figures/wleResults/'\n",
    "n,ttt,clin,cdin=np.loadtxt(dataset,skiprows=1,unpack=True)\n",
    "ns=np.where(ttt>100.0)[0][0]\n",
    "ttt[0:ns]+=(ttt[ns]-ttt[ns-1])-(ttt[ns+1]-ttt[ns])\n",
    "tt=ttt[ns:].copy()\n",
    "tt=tt-tt.min()\n",
    "cl=clin[ns:].copy()\n",
    "cd=cdin[ns:].copy()\n",
    "cln,tn,nsn,fsn=rsample(cl,tt,100)\n",
    "cdn,tn,nsn,fsn=rsample(cd,tt,100)\n",
    "dataset='clData/clean/A00W11AoA20_short.dat'\n",
    "n,t0,cl0,cd0=np.loadtxt(dataset,skiprows=1,unpack=True)\n",
    "cl0n,t0n,ns0n,fs0n=rsample(cl0,t0,100)\n",
    "cd0n,t0n,ns0n,fs0n=rsample(cd0,t0,100)"
   ]
  },
  {
   "cell_type": "code",
   "execution_count": 30,
   "metadata": {
    "collapsed": false
   },
   "outputs": [],
   "source": [
    "clh=0.72;cdh=0.28\n",
    "cl0h=0.64;cd0h=0.32\n",
    "fig,ax1=plt.subplots()\n",
    "ax1.plot(t0n,cl0n,'b',label=r'Straight $C_l$')\n",
    "ax1.plot((t0n[0],t0n[len(t0n)-1]),(cl0h,cl0h)\n",
    "         ,'r--',label='Experiment~\\citep{Hansen2011}')\n",
    "ax1.set_ylabel(r'$C_l$',fontsize=16)\n",
    "ax1.set_xlabel(r'$t^*$',fontsize=16)\n",
    "ax1.set_ylim(0,1)\n",
    "ax2=ax1.twinx()\n",
    "ax2.plot(t0n,cd0n,'g',label=r'Straight $C_d$')\n",
    "ax2.set_ylim(0,1)\n",
    "ax1.grid(True)\n",
    "ax2.plot((t0n[0],t0n[len(tn)-1]),(cd0h,cd0h)\n",
    "         ,'r--',label='Experiment~\\citep{Hansen2011}')\n",
    "ax2.set_xlabel(r'$t^*$',fontsize=16)\n",
    "ax2.set_ylabel(r'$C_l$',fontsize=16)\n",
    "ax2.legend(bbox_to_anchor=(0., 1.02, 1., .102), loc=3,\n",
    "           ncol=3, mode=\"expand\", borderaxespad=0.)\n",
    "tikzpath='/home/rpt1g12/Dropbox/phd/figures/wleResults/'\n",
    "plt.show()"
   ]
  },
  {
   "cell_type": "code",
   "execution_count": 13,
   "metadata": {
    "collapsed": false
   },
   "outputs": [
    {
     "name": "stdout",
     "output_type": "stream",
     "text": [
      "0.677930570559 0.326352903136 2.07729290607\n",
      "0.686724796818 0.364643919967 1.88327505058\n"
     ]
    }
   ],
   "source": [
    "clm=cln.mean()\n",
    "cdm=cdn.mean()\n",
    "print(clm,cdm,clm/cdm)\n",
    "clm=cl0n.mean()\n",
    "cdm=cd0n.mean()\n",
    "print(clm,cdm,clm/cdm)"
   ]
  },
  {
   "cell_type": "code",
   "execution_count": null,
   "metadata": {
    "collapsed": true
   },
   "outputs": [],
   "source": [
    "dataset='clData/clean/A00W11AoA20_short.dat'\n",
    "n,t0,cl0,cd0=np.loadtxt(dataset,skiprows=1,unpack=True)\n",
    "t0=t0-t0.min()\n",
    "cl0n,t0n,ns0n,fs0n=rsample(cl0,t0,100)\n",
    "cd0n,t0n,ns0n,fs0n=rsample(cd0,t0,100)"
   ]
  }
 ],
 "metadata": {
  "kernelspec": {
   "display_name": "Python 3",
   "language": "python",
   "name": "python3"
  },
  "language_info": {
   "codemirror_mode": {
    "name": "ipython",
    "version": 3
   },
   "file_extension": ".py",
   "mimetype": "text/x-python",
   "name": "python",
   "nbconvert_exporter": "python",
   "pygments_lexer": "ipython3",
   "version": "3.4.3"
  }
 },
 "nbformat": 4,
 "nbformat_minor": 0
}
