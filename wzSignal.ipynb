{
 "cells": [
  {
   "cell_type": "code",
   "execution_count": 1,
   "metadata": {
    "collapsed": true
   },
   "outputs": [],
   "source": [
    "import numpy as np\n",
    "from scipy.signal import coherence as msc\n",
    "from scipy.signal import welch as psdw\n",
    "from scipy import signal as sgl\n",
    "from scipy import interpolate\n",
    "import matplotlib.pyplot as plt\n",
    "import matplotlib\n",
    "from lib.stats import *\n",
    "from lib.stats import myDFT as myDFT\n",
    "from lib.matplotlib2tikz import save as tikz_save"
   ]
  },
  {
   "cell_type": "code",
   "execution_count": 2,
   "metadata": {
    "collapsed": false
   },
   "outputs": [],
   "source": [
    "dataset='signalData/tewz.dat'\n",
    "t,wz=np.loadtxt(dataset,skiprows=0,unpack=True)\n",
    "dataset='signalData/lewz.dat'\n",
    "t,lewz=np.loadtxt(dataset,skiprows=0,unpack=True)\n",
    "dataset='signalData/lewz_zeta87.dat'\n",
    "t,lewz87=np.loadtxt(dataset,skiprows=0,unpack=True)"
   ]
  },
  {
   "cell_type": "code",
   "execution_count": 3,
   "metadata": {
    "collapsed": true
   },
   "outputs": [],
   "source": [
    "dataset='clData/clean/A15W11AoA20.dat'\n",
    "n,ttt,clin,cd=np.loadtxt(dataset,skiprows=1,unpack=True)"
   ]
  },
  {
   "cell_type": "code",
   "execution_count": 4,
   "metadata": {
    "collapsed": false
   },
   "outputs": [],
   "source": [
    "ns=np.where(ttt>100.0)[0][0]\n",
    "ttt[0:ns]+=(ttt[ns]-ttt[ns-1])-(ttt[ns+1]-ttt[ns])\n",
    "tt=ttt[ns:].copy()\n",
    "cl=clin[ns:].copy()"
   ]
  },
  {
   "cell_type": "code",
   "execution_count": 5,
   "metadata": {
    "collapsed": false
   },
   "outputs": [],
   "source": [
    "wzn,tnew,nsam,fsam=rsample(wz,t,200)\n",
    "lewzn,tnew3,nsam3,fsam3=rsample(lewz,t,200)\n",
    "lewz87n,tnew4,nsam4,fsam4=rsample(lewz87,t,200)\n",
    "cln,tnew2,nsam2,fsam2=rsample(cl,tt,800)"
   ]
  },
  {
   "cell_type": "code",
   "execution_count": 6,
   "metadata": {
    "collapsed": false
   },
   "outputs": [],
   "source": [
    "plt.subplot(311)\n",
    "plt.plot(tnew,wzn,'r-^')\n",
    "plt.subplot(312)\n",
    "plt.plot(tnew3,lewzn,'g-s')\n",
    "plt.plot(tnew4,lewz87n,'m-d')\n",
    "plt.subplot(313)\n",
    "plt.plot(tnew2,cln,'b-o')\n",
    "plt.show()"
   ]
  },
  {
   "cell_type": "code",
   "execution_count": 7,
   "metadata": {
    "collapsed": false
   },
   "outputs": [],
   "source": [
    "nw=2;nw2=2\n",
    "ff2,pcl=psdw(cln,fs=fsam2,nperseg=nsam2/nw2,noverlap=0)\n",
    "ff,pwz=psdw(wzn,fs=fsam,nperseg=nsam/nw,noverlap=0)\n",
    "ff3,plewz=psdw(lewzn,fs=fsam3,nperseg=nsam3/nw,noverlap=0)\n",
    "ff4,plewz87=psdw(lewz87n,fs=fsam4,nperseg=nsam4/nw,noverlap=0)"
   ]
  },
  {
   "cell_type": "code",
   "execution_count": 8,
   "metadata": {
    "collapsed": false
   },
   "outputs": [],
   "source": [
    "fig,ax1=plt.subplots()\n",
    "fmax=2.5\n",
    "scl1=1#pcl.max()\n",
    "scl2=1#pwz.max()\n",
    "scl3=1#plewz.max()\n",
    "ax1.loglog(ff2,pcl/scl1,'b-o',label=r'$C_l$')\n",
    "ax1.set_ylabel(r'PSD')# of $C_l$')\n",
    "ax1.set_xlim(0,fmax)\n",
    "ax2=ax1#.twinx()\n",
    "ax1.loglog(ff,pwz/scl2,'r-^',label=r'$\\omega_{z}$ Te')\n",
    "ax1.loglog(ff3,plewz/scl3,'g-s',label=r'$\\omega_{z}$ Le $\\zeta=50$')\n",
    "ax1.loglog(ff4,plewz87/scl3,'m-d',label=r'$\\omega_{z}$ Le $\\zeta=87$')\n",
    "ax1.set_xlim(0,fmax)\n",
    "ax1.set_xlabel(r'$f^*$')\n",
    "#ax2.set_ylabel(r'PSD of $\\omega_z$')\n",
    "ax1.legend(bbox_to_anchor=(0., 1.03, 1., 1.13), loc=3,\n",
    "           ncol=4, mode=\"expand\", borderaxespad=0.)\n",
    "ax1.grid(b=True, which='major', color='k', linestyle=':')\n",
    "ax1.grid(b=True, which='minor', color='k', linestyle=':')\n",
    "plt.show()"
   ]
  },
  {
   "cell_type": "code",
   "execution_count": 9,
   "metadata": {
    "collapsed": false
   },
   "outputs": [],
   "source": [
    "dataset='signalData/clwz.dat'\n",
    "n,tt,cl,cd=np.loadtxt(dataset,skiprows=1,unpack=True)\n",
    "cln,tnew2,nsam2,fsam2=rsample(cl,tt,200)\n",
    "ff2,pcl=psdw(cln,fs=fsam2,nperseg=nsam2/nw2,noverlap=0)"
   ]
  },
  {
   "cell_type": "code",
   "execution_count": 10,
   "metadata": {
    "collapsed": false
   },
   "outputs": [],
   "source": [
    "plt.plot(ff2,pcl,'b-o')\n",
    "plt.show()"
   ]
  },
  {
   "cell_type": "code",
   "execution_count": 11,
   "metadata": {
    "collapsed": true
   },
   "outputs": [],
   "source": [
    "dataset='signalData/intgP0_50zeta.dat'\n",
    "t0,p0=np.loadtxt(dataset,skiprows=0,unpack=True)\n",
    "p0,t0,nsam0,fsam0=rsample(p0,t0,200)\n",
    "dataset='signalData/intgP50_100zeta.dat'\n",
    "t1,p1=np.loadtxt(dataset,skiprows=0,unpack=True)\n",
    "p1,t1,nsam1,fsam1=rsample(p1,t1,200)\n",
    "plt.plot(t0,p0,'b-o',label=r'no LSB')\n",
    "plt.plot(t1,p1,'g-s',label=r'LSB')\n",
    "plt.legend()\n",
    "plt.xlabel(r'$t^*$')\n",
    "plt.ylabel(r'$\\int p/S$')\n",
    "plt.show()"
   ]
  },
  {
   "cell_type": "code",
   "execution_count": 12,
   "metadata": {
    "collapsed": true
   },
   "outputs": [],
   "source": [
    "nw=1;fmax=2.5\n",
    "ff0,pp0=psdw(p0,fs=fsam0,nperseg=nsam0/nw,noverlap=0)\n",
    "ff1,pp1=psdw(p1,fs=fsam1,nperseg=nsam1/nw,noverlap=0)"
   ]
  },
  {
   "cell_type": "code",
   "execution_count": 13,
   "metadata": {
    "collapsed": true
   },
   "outputs": [],
   "source": [
    "plt.loglog(ff2,pcl,'b-o',label=r'$C_l$')\n",
    "plt.loglog(ff0,pp0,'g-s',label=r'$p/S$ no LSB')\n",
    "plt.loglog(ff1,pp1,'r-^',label=r'$p/S$ LSB')\n",
    "plt.xlim(0,fmax)\n",
    "plt.xlabel(r'$f^*$')\n",
    "plt.ylabel(r'PSD')\n",
    "plt.legend(bbox_to_anchor=(0., 1.03, 1., 1.13), loc=3,\n",
    "           ncol=3, mode=\"expand\", borderaxespad=0.)\n",
    "plt.grid(b=True, which='major', color='k', linestyle=':')\n",
    "plt.grid(b=True, which='minor', color='k', linestyle=':')\n",
    "plt.show()"
   ]
  },
  {
   "cell_type": "code",
   "execution_count": 14,
   "metadata": {
    "collapsed": false
   },
   "outputs": [],
   "source": [
    "difp=p1-p0/-(p1+p0)\n",
    "plt.plot(t0,difp,'m-d',label=r'$\\frac{p_{LSB}-p_{noLSB}}{|p_{LSB}+p_{noLSB}|}$')\n",
    "plt.xlabel(r'$t^*$')\n",
    "plt.legend()\n",
    "plt.show()"
   ]
  },
  {
   "cell_type": "code",
   "execution_count": 15,
   "metadata": {
    "collapsed": true
   },
   "outputs": [],
   "source": [
    "dataset='signalData/intp.dat'\n",
    "t5,cp=np.loadtxt(dataset,skiprows=0,unpack=True)\n",
    "cpn,tn,nsam5,fsam5=rsample(cp,t5,1500)\n",
    "nw=12;fmax=25;ovlp=0.5\n",
    "ff5,pcp=psdw(cpn,fs=fsam5,nperseg=nsam5/nw,noverlap=nsam5*ovlp/nw)\n",
    "plt.plot(ff5,pcp,'b-o',label=r'$C_p$')\n",
    "plt.xlabel(r'$f^*$')\n",
    "plt.ylabel(r'PSD')\n",
    "plt.title(str(nw)+' Windows')\n",
    "plt.grid(b=True, which='major', color='k', linestyle=':')\n",
    "plt.grid(b=True, which='minor', color='k', linestyle=':')\n",
    "plt.xlim(0,fmax)\n",
    "plt.show()"
   ]
  },
  {
   "cell_type": "code",
   "execution_count": 16,
   "metadata": {
    "collapsed": true
   },
   "outputs": [],
   "source": [
    "dataset='clData/clean/A15W11AoA20.dat'\n",
    "n,ttt,clin,cd=np.loadtxt(dataset,skiprows=1,unpack=True)\n",
    "plt.plot(ttt,clin);plt.show()"
   ]
  },
  {
   "cell_type": "code",
   "execution_count": 2,
   "metadata": {
    "collapsed": false
   },
   "outputs": [],
   "source": [
    "dataset='clData/clean/A15W11AoA20.dat'\n",
    "n,ttt,clin,cd=np.loadtxt(dataset,skiprows=1,unpack=True)\n",
    "ns=np.where(ttt>100.0)[0][0]\n",
    "ttt[0:ns]+=(ttt[ns]-ttt[ns-1])-(ttt[ns+1]-ttt[ns])\n",
    "tt=ttt[ns:].copy()\n",
    "cl=clin[ns:].copy()\n",
    "cln,tnew2,nsam2,fsam2=rsample(cl,tt,200)\n",
    "dataset='signalData/clean/AoA20/gammate0.dat'\n",
    "t,wz=np.loadtxt(dataset,skiprows=0,unpack=True)\n",
    "wzn,tnew,nsam,fsam=rsample(wz,t,200)\n",
    "dataset='signalData/clean/AoA20/gammale0.dat'\n",
    "t6,wc=np.loadtxt(dataset,skiprows=0,unpack=True)\n",
    "wcn,tn,nsam6,fsam6=rsample(wc,t6,200)\n",
    "dataset='signalData/clean/AoA20/gammale1.dat'\n",
    "t7,wc2=np.loadtxt(dataset,skiprows=0,unpack=True)\n",
    "wc2n,tn2,nsam7,fsam7=rsample(wc2,t7,200)\n",
    "dataset='signalData/clean/AoA20/gammale2.dat'\n",
    "t8,wc3=np.loadtxt(dataset,skiprows=0,unpack=True)\n",
    "wc3n,tn3,nsam8,fsam8=rsample(wc3,t8,200)\n",
    "\n",
    "nw=2;fmax=2.5;ovlp=0.0;nw2=2;cscl='spectrum'\n",
    "\n",
    "ff2,pcl=psdw(cln,fs=fsam2,nperseg=nsam2/nw2,noverlap=nsam2*ovlp/nw2,scaling=cscl)\n",
    "ff,pwz=psdw(wzn,fs=fsam,nperseg=nsam/nw,noverlap=nsam*ovlp/nw,scaling=cscl)\n",
    "ff6,pwc=psdw(wcn,fs=fsam6,nperseg=nsam6/nw,noverlap=nsam6*ovlp/nw,scaling=cscl)\n",
    "ff7,pwc2=psdw(wc2n,fs=fsam7,nperseg=nsam7/nw,noverlap=nsam7*ovlp/nw,scaling=cscl)\n",
    "ff8,pwc3=psdw(wc3n,fs=fsam8,nperseg=nsam8/nw,noverlap=nsam8*ovlp/nw,scaling=cscl)\n",
    "\n",
    "scl1=np.var(cln);scl2=np.var(wzn);scl3=np.var(wcn);scl4=np.var(wc2n);scl5=np.var(wc3n)\n",
    "\n",
    "fig,ax=plt.subplots()\n",
    "ax.loglog(ff2,pcl/scl1,'b-o',label=r'$C_l$')\n",
    "ax.loglog(ff6,10*pwc/scl3,'g-s',label=r'$\\Gamma_{LE_0}$')\n",
    "ax.loglog(ff7,100*pwc2/scl4,'m-d',label=r'$\\Gamma_{LE_2}$')\n",
    "ax.loglog(ff8,1000*pwc3/scl5,'c-v',label=r'$\\Gamma_{LE_3}$')\n",
    "ax.loglog(ff,10000*pwz/scl2,'r-^',label=r'$\\Gamma_{TE}$')\n",
    "ax.set_xlabel(r'$f^*$')\n",
    "ax.set_ylabel(r'$E_{\\Gamma^*\\Gamma^*}$')\n",
    "\n",
    "plt.legend(bbox_to_anchor=(0., 0.02), loc=3,\n",
    "        ncol=1, borderaxespad=0.3)\n",
    "ax.xaxis.grid(b=True, which='both', color='k', linestyle=':')\n",
    "ax.yaxis.grid(b=True, which='major', color='k', linestyle=':')\n",
    "ax.set_xlim(0,fmax)\n",
    "if (False):\n",
    "    tikzpath='/home/rpt1g12/Dropbox/phd/figures/pgrAFM/'\n",
    "    tikz_save(tikzpath+'cwlepsdcirc.tex',\n",
    "             figurewidth = '\\\\tikzw',\n",
    "             figureheight = '\\\\tikzh')\n",
    "savepath='/home/rpt1g12/Desktop/wleCirc.pdf'\n",
    "#plt.savefig(savepath,dpi=300)\n",
    "plt.show()"
   ]
  },
  {
   "cell_type": "code",
   "execution_count": 18,
   "metadata": {
    "collapsed": false
   },
   "outputs": [],
   "source": [
    "dataset='clData/clean/A00W11AoA20_short.dat'\n",
    "n,tt,cl,cd=np.loadtxt(dataset,skiprows=1,unpack=True)\n",
    "tt=tt-tt.min()\n",
    "cln,tnew2,nsam2,fsam2=rsample(cl,tt,200)\n",
    "dataset='signalData/clean/AoA20/0gammate0.dat'\n",
    "t,wz=np.loadtxt(dataset,skiprows=0,unpack=True)\n",
    "wzn,tnew,nsam,fsam=rsample(wz,t,200)\n",
    "dataset='signalData/clean/AoA20/0gammale0.dat'\n",
    "t6,wc=np.loadtxt(dataset,skiprows=0,unpack=True)\n",
    "wcn,tn,nsam6,fsam6=rsample(wc,t6,200)\n",
    "dataset='signalData/clean/AoA20/0gammale1.dat'\n",
    "t7,wc2=np.loadtxt(dataset,skiprows=0,unpack=True)\n",
    "wc2n,tn2,nsam7,fsam7=rsample(wc2,t7,200)\n",
    "dataset='signalData/clean/AoA20/0gammale2.dat'\n",
    "t8,wc3=np.loadtxt(dataset,skiprows=0,unpack=True)\n",
    "wc3n,tn3,nsam8,fsam8=rsample(wc3,t8,200)\n",
    "\n",
    "nw=2;fmax=2.5;ovlp=0.0;nw2=2;cscl='spectrum'\n",
    "\n",
    "ff2,pcl=psdw(cln,fs=fsam2,nperseg=nsam2/nw2,noverlap=nsam2*ovlp/nw2,scaling=cscl)\n",
    "ff,pwz=psdw(wzn,fs=fsam,nperseg=nsam/nw,noverlap=nsam*ovlp/nw,scaling=cscl)\n",
    "ff6,pwc=psdw(wcn,fs=fsam6,nperseg=nsam6/nw,noverlap=nsam6*ovlp/nw,scaling=cscl)\n",
    "ff7,pwc2=psdw(wc2n,fs=fsam7,nperseg=nsam7/nw,noverlap=nsam7*ovlp/nw,scaling=cscl)\n",
    "ff8,pwc3=psdw(wc3n,fs=fsam8,nperseg=nsam8/nw,noverlap=nsam8*ovlp/nw,scaling=cscl)\n",
    "\n",
    "scl1=np.var(cln);scl2=np.var(wzn);scl3=np.var(wcn);scl4=np.var(wc2n);scl5=np.var(wc3n)\n",
    "\n",
    "fig,ax=plt.subplots()\n",
    "ax.loglog(ff2,pcl/scl1,'b-o',label=r'$C_l$')\n",
    "ax.loglog(ff6,10*pwc/scl3,'g-s',label=r'$\\Gamma_{LE_0}$')\n",
    "ax.loglog(ff7,100*pwc2/scl4,'m-d',label=r'$\\Gamma_{LE_2}$')\n",
    "ax.loglog(ff8,1000*pwc3/scl5,'c-v',label=r'$\\Gamma_{LE_3}$')\n",
    "ax.loglog(ff,10000*pwz/scl2,'r-^',label=r'$\\Gamma_{TE}$')\n",
    "ax.set_xlabel(r'$f^*$')\n",
    "ax.set_ylabel(r'$E_{\\Gamma^*\\Gamma^*}$')\n",
    "#ax.legend(ncol=1, borderaxespad=0.3)\n",
    "ax.xaxis.grid(b=True, which='both', color='k', linestyle=':')\n",
    "ax.yaxis.grid(b=True, which='major', color='k', linestyle=':')\n",
    "ax.set_xlim(0,fmax)\n",
    "if (False):\n",
    "    tikzpath='/home/rpt1g12/Dropbox/phd/figures/pgrAFM/'\n",
    "    tikz_save(tikzpath+'strCirc.tex',\n",
    "              figurewidth = '\\\\tikzw',\n",
    "              figureheight = '\\\\tikzh')\n",
    "savepath='/home/rpt1g12/Dropbox/phd/figures/pgrAFM/strCirc.pdf'\n",
    "plt.savefig(savepath,dpi=300)\n",
    "plt.show()"
   ]
  },
  {
   "cell_type": "code",
   "execution_count": null,
   "metadata": {
    "collapsed": true
   },
   "outputs": [],
   "source": []
  }
 ],
 "metadata": {
  "kernelspec": {
   "display_name": "Python 3",
   "language": "python",
   "name": "python3"
  },
  "language_info": {
   "codemirror_mode": {
    "name": "ipython",
    "version": 3
   },
   "file_extension": ".py",
   "mimetype": "text/x-python",
   "name": "python",
   "nbconvert_exporter": "python",
   "pygments_lexer": "ipython3",
   "version": "3.4.4"
  }
 },
 "nbformat": 4,
 "nbformat_minor": 0
}
