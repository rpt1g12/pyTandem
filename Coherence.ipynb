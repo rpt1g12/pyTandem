{
 "cells": [
  {
   "cell_type": "code",
   "execution_count": 1,
   "metadata": {
    "collapsed": false
   },
   "outputs": [],
   "source": [
    "from scipy.signal import coherence as msc\n",
    "from scipy.signal import welch as psdw\n",
    "from scipy import signal as sgl\n",
    "import numpy as np\n",
    "from lib.stats import *\n",
    "import matplotlib.pyplot as plt\n",
    "import matplotlib.ticker as ticker\n",
    "from lib.matplotlib2tikz import save as tikz_save"
   ]
  },
  {
   "cell_type": "code",
   "execution_count": 2,
   "metadata": {
    "collapsed": false
   },
   "outputs": [],
   "source": [
    "x=np.loadtxt('spectralData/xi50pt007.dat',skiprows=0,unpack=True,usecols=range(102))\n",
    "xcl=np.loadtxt('spectralData/clSignal.dat',skiprows=0,unpack=True,usecols=range(4))"
   ]
  },
  {
   "cell_type": "code",
   "execution_count": 3,
   "metadata": {
    "collapsed": true
   },
   "outputs": [],
   "source": [
    "dataset='signalData/intp1.dat'\n",
    "xcp=np.loadtxt(dataset,skiprows=0,usecols=range(2),unpack=True)\n",
    "dataset='signalData/intp2.dat'\n",
    "xcp2=np.loadtxt(dataset,skiprows=0,usecols=range(2),unpack=True)"
   ]
  },
  {
   "cell_type": "code",
   "execution_count": 4,
   "metadata": {
    "collapsed": false
   },
   "outputs": [
    {
     "name": "stdout",
     "output_type": "stream",
     "text": [
      "# of samples modified to:  2048.0\n",
      "fmax: 34.1168941126  fmin: 0.0333172794069\n",
      "# of samples modified to:  2048.0\n",
      "fmax: 34.1168486232  fmin: 0.0333172349836\n",
      "# of samples modified to:  2048.0\n",
      "fmax: 34.1168941126  fmin: 0.0333172794069\n",
      "# of samples modified to:  2048.0\n",
      "fmax: 34.1168941126  fmin: 0.0333172794069\n"
     ]
    }
   ],
   "source": [
    "n=4000;n2=n\n",
    "s1=x.shape;s2=xcl.shape;s3=xcp.shape\n",
    "lzee=x.shape[0];lzes=1;lze=lzee-lzes\n",
    "for i in range(lzes,lzee):\n",
    "    x[i,:]=x[i,:]-x[i,:].mean()\n",
    "    if (i==lzes):\n",
    "        out1,out2,nsam,fsam=rsample(x[i,:],x[0,:],n,verbose=True)\n",
    "        z=np.zeros((s1[0],len(out1)))\n",
    "        z[i,:]=out1[:];z[0,:]=out2[:]\n",
    "    else:\n",
    "        z[i,:],out2,nsam,fsam=rsample(x[i,:],x[0,:],n)\n",
    "\n",
    "for i in range(2,4):\n",
    "    xcl[i,:]=xcl[i,:]-xcl[i,:].mean()\n",
    "    if (i==2):\n",
    "        out1,out2,nsam,fsam=rsample(xcl[i,:],xcl[1,:],n2,verbose=True)\n",
    "        zcl=np.zeros((s2[0],len(out1)))\n",
    "        zcl[i,:]=out1[:];zcl[1,:]=out2[:]\n",
    "    else:\n",
    "        zcl[i,:],out2,nsam,fsam=rsample(xcl[i,:],xcl[1,:],n2)\n",
    "\n",
    "for i in [1]:\n",
    "    xcp[i,:]=xcp[i,:]-xcp[i,:].mean()\n",
    "    if (i==1):\n",
    "        out1,out2,nsam,fsam=rsample(xcp[i,:],xcp[0,:],n2,verbose=True)\n",
    "        zcp=np.zeros((s3[0],len(out1)))\n",
    "        zcp[i,:]=out1[:];zcp[0,:]=out2[:]\n",
    "for i in [1]:\n",
    "    xcp2[i,:]=xcp2[i,:]-xcp2[i,:].mean()\n",
    "    if (i==1):\n",
    "        out1,out2,nsam,fsam=rsample(xcp2[i,:],xcp2[0,:],n2,verbose=True)\n",
    "        zcp2=np.zeros((s3[0],len(out1)))\n",
    "        zcp2[i,:]=out1[:];zcp2[0,:]=out2[:]\n",
    "\n",
    "tsam=1/fsam; myf=1"
   ]
  },
  {
   "cell_type": "code",
   "execution_count": 14,
   "metadata": {
    "collapsed": false
   },
   "outputs": [
    {
     "name": "stdout",
     "output_type": "stream",
     "text": [
      "nseg0= 205\n",
      "Overlap modified to  0.002 to fit data\n",
      "Overlap modified to  0.007 to fit data\n",
      "Overlap modified to  0.012 to fit data\n",
      "Overlap modified to  0.018 to fit data\n",
      "Overlap modified to  0.023 to fit data\n",
      "Overlap modified to  0.028 to fit data\n",
      "Overlap modified to  0.033 to fit data\n",
      "fmax: 34.1168941126  fmin: 0.33284774744\n"
     ]
    }
   ],
   "source": [
    "plot=1\n",
    "ovlp=0.0;nwin=10;\n",
    "zcl[0,:]=z[0,:];zcp[0,:]=z[0,:];zcp2[0,:]=z[0,:];\n",
    "nseg,iovlp,ntt,fmax,fmin=defWindows(zcp,nwin=10,ovlp=0.0,plot=1)\n",
    "\n"
   ]
  },
  {
   "cell_type": "code",
   "execution_count": 12,
   "metadata": {
    "collapsed": false
   },
   "outputs": [
    {
     "name": "stderr",
     "output_type": "stream",
     "text": [
      "/home/rpt1g12/anaconda3/lib/python3.4/site-packages/matplotlib/collections.py:590: FutureWarning: elementwise comparison failed; returning scalar instead, but in the future will perform elementwise comparison\n",
      "  if self._edgecolors == str('face'):\n"
     ]
    }
   ],
   "source": [
    "fmax=10\n",
    "for i in range(lzes,lzee):\n",
    "    ff,clp=msc(zcl[2,:],z[i,:],fs=fsam,window='hann',nperseg=nseg,noverlap=iovlp)\n",
    "    if (i==lzes):\n",
    "        Clp=np.zeros((lze,ff.shape[0]))\n",
    "    Clp[i-1,:]=clp[:]\n",
    "zz=range(101)\n",
    "X, Y = np.meshgrid(ff,zz)\n",
    "plt.contourf(X,Y,Clp[:,:])\n",
    "plt.ylabel(r'$\\zeta$',fontsize=16)\n",
    "plt.xlabel(r'$f^*$',fontsize=16)\n",
    "plt.xlim(0,fmax)\n",
    "plt.colorbar();\n",
    "plt.show()"
   ]
  },
  {
   "cell_type": "code",
   "execution_count": 7,
   "metadata": {
    "collapsed": false
   },
   "outputs": [
    {
     "name": "stderr",
     "output_type": "stream",
     "text": [
      "/home/rpt1g12/anaconda3/lib/python3.4/site-packages/matplotlib/collections.py:590: FutureWarning: elementwise comparison failed; returning scalar instead, but in the future will perform elementwise comparison\n",
      "  if self._edgecolors == str('face'):\n"
     ]
    }
   ],
   "source": [
    "fmax=15; psd=1\n",
    "for i in range(lzes,lzee):\n",
    "    if (psd==0):\n",
    "        v = np.linspace(0.0, 1.0, 11, endpoint=True)\n",
    "        ff,cpp=msc(zcp[1,:],z[i,:],fs=fsam,\n",
    "                   window='hann',nperseg=nseg,noverlap=iovlp)\n",
    "    else:\n",
    "        ff,cpp=psdw(z[i,:],fs=fsam,\n",
    "                    window='hann',nperseg=nseg,noverlap=iovlp)\n",
    "    if (i==lzes):\n",
    "        Cpp=np.zeros((lze,ff.shape[0]))\n",
    "    Cpp[i-1,:]=cpp[:]\n",
    "zz=[i*(2.0/100) for i in range(101)]\n",
    "X, Y = np.meshgrid(ff,zz)\n",
    "if (psd==1):\n",
    "    CS=plt.contourf(X,Y,Cpp[:,:])#,locator=ticker.LogLocator())\n",
    "    def fmt(x, pos):\n",
    "        a, b = '{:.2e}'.format(x).split('e')\n",
    "        b = int(b)\n",
    "        return r'${} \\times 10^{{{}}}$'.format(a, b)\n",
    "\n",
    "    cbar=plt.colorbar(CS, format=ticker.FuncFormatter(fmt))\n",
    "    cbar.ax.set_ylabel('PSD')\n",
    "else:\n",
    "    CS=plt.contourf(X,Y,Cpp[:,:],v)\n",
    "    cbar=plt.colorbar(CS)\n",
    "    cbar.ax.set_ylabel('MSC')\n",
    "plt.ylabel(r'$\\frac{z}{L_c \\lambda_{LE}}$',fontsize=25)\n",
    "plt.xlabel(r'$f^*$',fontsize=20)\n",
    "plt.xlim(0,fmax)\n",
    "plt.show()"
   ]
  },
  {
   "cell_type": "code",
   "execution_count": 8,
   "metadata": {
    "collapsed": false
   },
   "outputs": [],
   "source": [
    "fmax=15\n",
    "ff5,pcp=psdw(zcp[1,:],fs=fsam,nperseg=nseg,noverlap=iovlp)\n",
    "ff52,pcp2=psdw(zcp2[1,:],fs=fsam,nperseg=nseg,noverlap=iovlp)\n",
    "plt.plot(ff5,pcp,'b-o',label=r'$p_{T1}$')\n",
    "plt.plot(ff52,pcp2,'g-s',label=r'$p_{T2}$')\n",
    "plt.xlabel(r'$f^*$')\n",
    "plt.ylabel(r'PSD')\n",
    "plt.ylim(1.0e-8,1.0e-4)\n",
    "#plt.title('xi[58-63]eta[40-48]zeta[85-90]')\n",
    "#plt.title('xi[52-58]eta[45-60]zeta[35-39]')\n",
    "plt.grid(b=True, which='major', color='k', linestyle=':')\n",
    "plt.grid(b=True, which='minor', color='k', linestyle=':')\n",
    "plt.xlim(0,fmax)\n",
    "plt.legend(ncol=1, borderaxespad=0.3)\n",
    "tikzpath='/home/rpt1g12/Dropbox/phd/figures/wleResults/'\n",
    "# tikz_save(tikzpath+'cwlepsdpT12.tex',\n",
    "#           figurewidth = '\\\\tikzw',\n",
    "#           figureheight = '\\\\tikzh')\n",
    "plt.show()"
   ]
  },
  {
   "cell_type": "code",
   "execution_count": 9,
   "metadata": {
    "collapsed": false
   },
   "outputs": [],
   "source": [
    "m=37\n",
    "plt.plot(ff[:],Clp[m,:],'-o')\n",
    "plt.xlim(0,fmax)\n",
    "plt.ylabel('msc')\n",
    "plt.xlabel('f*')\n",
    "plt.show()"
   ]
  },
  {
   "cell_type": "code",
   "execution_count": 10,
   "metadata": {
    "collapsed": false
   },
   "outputs": [],
   "source": [
    "for j in range(lzes,lzee):\n",
    "    for i in range(lzes,lzee):\n",
    "        ff,cpp=msc(z[j,0:ntt],z[i,0:ntt],fs=fsam,nperseg=nseg,noverlap=iovlp)\n",
    "        if (i==lzes and j==lzes):\n",
    "            Cpp=np.zeros((lze,lze,ff.shape[0]))\n",
    "        Cpp[j-1,i-1,:]=cpp\n",
    "v = np.linspace(0.0, 1.0, 11, endpoint=True)\n",
    "zz=[i*(2.0/100) for i in range(101)]\n",
    "X, Y = np.meshgrid(ff, zz)"
   ]
  },
  {
   "cell_type": "code",
   "execution_count": 11,
   "metadata": {
    "collapsed": false
   },
   "outputs": [
    {
     "name": "stderr",
     "output_type": "stream",
     "text": [
      "/home/rpt1g12/anaconda3/lib/python3.4/site-packages/matplotlib/collections.py:590: FutureWarning: elementwise comparison failed; returning scalar instead, but in the future will perform elementwise comparison\n",
      "  if self._edgecolors == str('face'):\n"
     ]
    }
   ],
   "source": [
    "i=7;fmax=15\n",
    "m=int(round(12.5*i))\n",
    "if (i%2==0):\n",
    "    countm=i//2+1\n",
    "    cs=\"Middle \"\n",
    "    cs+=str(countm)\n",
    "else:\n",
    "    if((i//2)%2==0):\n",
    "        countp=i//4+1\n",
    "        cs=\"Peak \"\n",
    "        cs+=str(countp)\n",
    "    else:\n",
    "        countt=i//4+1\n",
    "        cs=\"Trough \"\n",
    "        cs+=str(countt)\n",
    "CS=plt.contourf(X[:,:],Y[:,:],Cpp[m,:,:],v)\n",
    "plt.ylabel(r'$\\frac{z}{L_c \\lambda_{LE}}$',fontsize=25)\n",
    "plt.xlabel(r'$f^*$',fontsize=16)\n",
    "plt.title(cs+' used as base Signal')\n",
    "cbar=plt.colorbar(CS)\n",
    "cbar.ax.set_ylabel('MSC')\n",
    "plt.xlim(0,fmax)\n",
    "plt.show()"
   ]
  },
  {
   "cell_type": "code",
   "execution_count": 12,
   "metadata": {
    "collapsed": false
   },
   "outputs": [],
   "source": [
    "m=round(12.5*0)+1\n",
    "ff,CC=psdw(zcl[2,:],fs=fsam,nperseg=nseg,noverlap=iovlp)\n",
    "plt.plot(ff[0:fmax],CC[0:fmax]);plt.show()"
   ]
  },
  {
   "cell_type": "code",
   "execution_count": 1,
   "metadata": {
    "collapsed": false
   },
   "outputs": [
    {
     "name": "stdout",
     "output_type": "stream",
     "text": [
      "0M\n",
      "12P\n",
      "25M\n",
      "38T\n",
      "50M\n",
      "62P\n",
      "75M\n",
      "88T\n",
      "100M\n"
     ]
    }
   ],
   "source": [
    "for i in range(9):\n",
    "    m=int(round(12.5*i))\n",
    "    if (i%2==0): \n",
    "        cS='M'\n",
    "    else:\n",
    "        if ((i//2)%2==0):\n",
    "            cS='P'\n",
    "        else:\n",
    "            cS='T'\n",
    "    print(str(m)+cS)"
   ]
  },
  {
   "cell_type": "code",
   "execution_count": null,
   "metadata": {
    "collapsed": true
   },
   "outputs": [],
   "source": []
  }
 ],
 "metadata": {
  "kernelspec": {
   "display_name": "Python 3",
   "language": "python",
   "name": "python3"
  },
  "language_info": {
   "codemirror_mode": {
    "name": "ipython",
    "version": 3
   },
   "file_extension": ".py",
   "mimetype": "text/x-python",
   "name": "python",
   "nbconvert_exporter": "python",
   "pygments_lexer": "ipython3",
   "version": "3.4.4"
  }
 },
 "nbformat": 4,
 "nbformat_minor": 0
}
