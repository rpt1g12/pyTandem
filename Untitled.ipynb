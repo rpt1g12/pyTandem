{
 "cells": [
  {
   "cell_type": "code",
   "execution_count": 1,
   "metadata": {
    "collapsed": true
   },
   "outputs": [],
   "source": [
    "#%matplotlib inline\n",
    "import numpy as np\n",
    "import matplotlib.pyplot as plt\n",
    "import matplotlib\n",
    "from scipy.signal import periodogram as psd"
   ]
  },
  {
   "cell_type": "code",
   "execution_count": 2,
   "metadata": {
    "collapsed": true
   },
   "outputs": [],
   "source": [
    "z=np.loadtxt('spectralData/twt007.dat',skiprows=0,unpack=True,usecols=range(101))"
   ]
  },
  {
   "cell_type": "code",
   "execution_count": 10,
   "metadata": {
    "collapsed": false
   },
   "outputs": [],
   "source": [
    "n=74\n",
    "msc=np.zeros((101,101,n/2+1))\n",
    "\n",
    "for j in range(101):\n",
    "    for i in range(101):\n",
    "        msc[j,i,:],ff=plt.cohere(z[j,:],z[i,:],n,5,noverlap=37)\n",
    "    plt.clf()\n",
    "\n",
    "zz=range(101)\n",
    "X, Y = np.meshgrid(ff, zz)\n",
    "\n",
    "plt.contourf(X,Y,msc[1,:,:]);plt.show()"
   ]
  },
  {
   "cell_type": "code",
   "execution_count": 34,
   "metadata": {
    "collapsed": false
   },
   "outputs": [],
   "source": [
    "m=87\n",
    "plt.contourf(X,Y,msc[m,:,:])\n",
    "plt.title(r'Trough: $\\zeta$='+str(m)+r' base MSC $C_f\\prime$')\n",
    "plt.ylabel(r'$\\zeta$',fontsize=16)\n",
    "plt.xlabel(r'$f^*$',fontsize=16)\n",
    "plt.colorbar();plt.show()"
   ]
  },
  {
   "cell_type": "code",
   "execution_count": 12,
   "metadata": {
    "collapsed": false
   },
   "outputs": [],
   "source": [
    "plt.plot(z[0,:],z[100,:])\n",
    "plt.plot(z[0,:],z[1,:]);plt.show()"
   ]
  },
  {
   "cell_type": "code",
   "execution_count": 7,
   "metadata": {
    "collapsed": true
   },
   "outputs": [],
   "source": [
    "ff,YY=psd(z[1,:],fs=5)"
   ]
  },
  {
   "cell_type": "code",
   "execution_count": 9,
   "metadata": {
    "collapsed": true
   },
   "outputs": [],
   "source": [
    "plt.plot(ff,YY);plt.show()"
   ]
  },
  {
   "cell_type": "code",
   "execution_count": 18,
   "metadata": {
    "collapsed": true
   },
   "outputs": [],
   "source": [
    "plt.plot(ff,msc[62,50,:])\n",
    "plt.ylabel(r'$msc$',fontsize=16)\n",
    "plt.xlabel(r'$f^*$',fontsize=16)\n",
    "plt.title('Medium 0');plt.show()"
   ]
  },
  {
   "cell_type": "code",
   "execution_count": 2,
   "metadata": {
    "collapsed": false
   },
   "outputs": [],
   "source": [
    "def qhermite(x,y0,yx0,y1,yx1,yxx0=0.0,yxx1=0.0):\n",
    "    \"\"\"Quintic Hermitiean interpolation\"\"\"\n",
    "    l=len(x)-1; s=np.zeros(l+1);f=np.zeros(l+1)\n",
    "    x0=x[0];x1=x[l]; dx=x1-x0\n",
    "    dy=y1-y0\n",
    "    s[:]=(x[:]-x0)/dx\n",
    "    p0=y0;p1=yx0*dx;p2=yxx0*dx**2\n",
    "    p5=y1;p4=yx1*dx;p3=yxx1*dx**2\n",
    "    p=np.matrix([[p0,p1,p2,p3,p4,p5]])\n",
    "    c=np.matrix([\n",
    "            [-06.0,+15.0,-10.0,+00.0,+00.0,+01.0],\n",
    "            [-03.0,+08.0,-06.0,+00.0,+01.0,+00.0],\n",
    "            [-00.5,+01.5,-01.5,+00.5,+00.0,+00.0],\n",
    "            [+00.5,-01.0,+00.5,+00.0,+00.0,+00.0],\n",
    "            [-03.0,+07.0,-04.0,+00.0,+00.0,+00.0],\n",
    "            [+06.0,-15.0,+10.0,+00.0,+00.0,+00.0]\n",
    "                                                ])\n",
    "    for i in range(l+1):\n",
    "        t=np.matrix([\n",
    "                    [s[i]**5],                                                                                                                                                        \n",
    "                    [s[i]**4],\n",
    "                    [s[i]**3],\n",
    "                    [s[i]**2],\n",
    "                    [s[i]**1],\n",
    "                    [s[i]**0]\n",
    "                            ])\n",
    "        f[i]=(p*c*t)\n",
    "    return f"
   ]
  },
  {
   "cell_type": "code",
   "execution_count": 19,
   "metadata": {
    "collapsed": false
   },
   "outputs": [],
   "source": [
    "def qahermite(x,y0,yx0,y1,yx1,side,lnr=0):\n",
    "    \"\"\"Quintic Hermitiean interpolation\"\"\"\n",
    "    l=len(x)-1; s=np.zeros(l+1);f=np.zeros(l+1)\n",
    "    x0=x[0];x1=x[l]; dx=x1-x0\n",
    "    s[:]=(x[:]-x0)/dx\n",
    "    p0=y0;p1=yx0*dx\n",
    "    p3=y1;p2=yx1*dx;\n",
    "    p=np.matrix([[p0,p1,p2,p3]])\n",
    "    if (lnr==1):\n",
    "        c=np.matrix([\n",
    "        [-00.0,+00.0,-00.0,-01.0,+01.0],\n",
    "        [-00.0,+00.0,-00.0,+00.0,+00.0],\n",
    "        [-00.0,+00.0,-00.0,+00.0,+00.0],\n",
    "        [+00.0,-00.0,+00.0,+01.0,+00.0]])\n",
    "    else:\n",
    "        if (side==1):\n",
    "            c=np.matrix([\n",
    "            [-03.0,+08.0,-06.0,+00.0,+01.0],\n",
    "            [-01.0,+03.0,-03.0,+01.0,+00.0],\n",
    "            [-02.0,+05.0,-03.0,+00.0,+00.0],\n",
    "            [+03.0,-08.0,+06.0,+00.0,+00.0]])\n",
    "        else:\n",
    "            c=np.matrix([\n",
    "            [+03.0,-04.0,-00.0,-00.0,+01.0],\n",
    "            [+02.0,-03.0,+00.0,+01.0,+00.0],\n",
    "            [+01.0,-01.0,+00.0,+00.0,+00.0],\n",
    "            [-03.0,+04.0,+00.0,+00.0,+00.0]])\n",
    "    for i in range(l+1):\n",
    "        t=np.matrix([                                                                                                                                                       \n",
    "                    [s[i]**4],\n",
    "                    [s[i]**3],\n",
    "                    [s[i]**2],\n",
    "                    [s[i]**1],\n",
    "                    [s[i]**0]\n",
    "                            ])\n",
    "        f[i]=(p*c*t)\n",
    "    return f"
   ]
  },
  {
   "cell_type": "code",
   "execution_count": 11,
   "metadata": {
    "collapsed": true
   },
   "outputs": [],
   "source": [
    "def dxi(x,fctr=1):\n",
    "    n=max(x.shape); l=n-1; dx=np.zeros(n)\n",
    "    a=np.zeros(n-2);b=np.zeros(n-1);c=np.zeros(n)\n",
    "    d=np.zeros(n-1);e=np.zeros(n-2);\n",
    "    a[-1]=1;e[0]=-1\n",
    "    b[0:-1]=-1;b[-1]=-4;d[1:]=1;d[0]=4;\n",
    "    c[0]=-3;c[-1]=3\n",
    "    m=(1/(2*fctr))*np.mat(np.diag(a,-2)+np.diag(b,-1)+np.diag(c,0)+np.diag(d,1)+np.diag(e,2))\n",
    "    dx=m*np.mat(x).T\n",
    "    return dx\n",
    "    "
   ]
  },
  {
   "cell_type": "code",
   "execution_count": null,
   "metadata": {
    "collapsed": true
   },
   "outputs": [],
   "source": [
    "alpha0=45;alpha1=0\n",
    "y0=0.0;y1=1.0\n",
    "yx0=np.tan(np.deg2rad(alpha0))\n",
    "yx1=np.tan(np.deg2rad(alpha1))\n",
    "blh=6.0#*np.abs(y1-y0);\n",
    "x=np.linspace(0,blh,100);dx=x[1]-x[0]\n",
    "y = qhermite(x,y0,yx0,y1,yx1)\n",
    "ya=qahermite(x,y0,yx0,y1,yx1,1)\n",
    "dydx=dxi(y,dx);dyadx=dxi(ya,dx)\n",
    "d2ydx=dxi(dydx.T,dx);d2yadx=dxi(dyadx.T,dx)\n",
    "plt.subplot(311)\n",
    "plt.plot(x,y,x,ya)\n",
    "plt.subplot(312)\n",
    "plt.plot(x,dydx);plt.plot(x,dyadx)\n",
    "plt.subplot(313)\n",
    "plt.plot(x,d2ydx);plt.plot(x,d2yadx)\n",
    "plt.show()"
   ]
  }
 ],
 "metadata": {
  "kernelspec": {
   "display_name": "Python 3",
   "language": "python",
   "name": "python3"
  },
  "language_info": {
   "codemirror_mode": {
    "name": "ipython",
    "version": 3
   },
   "file_extension": ".py",
   "mimetype": "text/x-python",
   "name": "python",
   "nbconvert_exporter": "python",
   "pygments_lexer": "ipython3",
   "version": "3.4.3"
  }
 },
 "nbformat": 4,
 "nbformat_minor": 0
}
