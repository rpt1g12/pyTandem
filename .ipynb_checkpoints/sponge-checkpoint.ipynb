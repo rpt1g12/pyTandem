{
 "metadata": {
  "name": "",
  "signature": "sha256:adfb21208f3776e7fd5e3b23c91579bb409632db25cc61449d0e094eac89f73d"
 },
 "nbformat": 3,
 "nbformat_minor": 0,
 "worksheets": [
  {
   "cells": [
    {
     "cell_type": "code",
     "collapsed": false,
     "input": [
      "import numpy as np\n",
      "from scipy import signal\n",
      "import matplotlib.pyplot as plt\n",
      "import matplotlib\n",
      "from lib.stats import *\n",
      "from lib.indx import *"
     ],
     "language": "python",
     "metadata": {},
     "outputs": [],
     "prompt_number": 79
    },
    {
     "cell_type": "code",
     "collapsed": false,
     "input": [
      "nx=100\n",
      "ny=nx\n",
      "amach1=0.4\n",
      "spzco=12\n",
      "domlen=7.0\n",
      "h=2*domlen/nx\n",
      "szth1=2\n",
      "szth2=1\n",
      "ra0=0.5*spzco\n",
      "ra1=1+min(2*amach1/(1+amach1),1)\n",
      "x=np.array([i*h-domlen for i in range(0,nx+1)])\n",
      "szr=np.zeros((2,2))\n",
      "szp=np.zeros((2,2))\n",
      "rr=np.zeros((nx+1,nx+1,2))\n",
      "L=np.zeros((nx+1,nx+1))\n",
      "S=np.zeros((nx+1,nx+1))\n",
      "LS=np.zeros((nx+1,nx+1))\n",
      "X,Y=np.meshgrid(x,x)      \n",
      "szr[0,0]=1/szth1\n",
      "szp[0,0]=-domlen+szth1\n",
      "szr[1,0]=1/szth1\n",
      "szp[1,0]=domlen-szth1\n",
      "szr[0,1]=1/szth2\n",
      "szp[0,1]=-domlen+szth2\n",
      "szr[1,1]=1/szth2\n",
      "szp[1,1]=domlen-szth2"
     ],
     "language": "python",
     "metadata": {},
     "outputs": [],
     "prompt_number": 281
    },
    {
     "cell_type": "code",
     "collapsed": false,
     "input": [
      "for i in range(0,nx+1):\n",
      "    for j in range(0,nx+1):\n",
      "        for nn in range(0,2):\n",
      "            if nn==0:\n",
      "                a=X[i,j]\n",
      "            elif nn==1:\n",
      "                a=Y[i,j]\n",
      "            rr[i,j,nn]=szr[0,nn]*max((szp[0,nn]-a),0)+szr[1,nn]*max((a-szp[1,nn]),0)\n",
      "        L[i,j]=ra1*(1-np.tanh(X[i,j]))+1/spzco\n",
      "        S[i,j]=ra0*(1+np.cos(np.pi*(1-rr[i,j,0])*(1-rr[i,j,1])))\n",
      "        LS[i,j]=L[i,j]*S[i,j]\n"
     ],
     "language": "python",
     "metadata": {},
     "outputs": [],
     "prompt_number": 282
    },
    {
     "cell_type": "code",
     "collapsed": false,
     "input": [
      "plt.close('all')\n",
      "ax1=plt.subplot(2,2,1)\n",
      "plt.contourf(X,Y,LS,80)\n",
      "plt.ylim((-domlen,domlen))\n",
      "plt.xlim((-domlen,domlen))\n",
      "plt.colorbar()\n",
      "plt.subplot(2,2,2,sharex=ax1)\n",
      "plt.contourf(X,Y,L,80)\n",
      "plt.ylim((-domlen,domlen))\n",
      "plt.xlim((-domlen,domlen))\n",
      "plt.colorbar()\n",
      "plt.subplot(2,2,3)\n",
      "plt.contourf(X,Y,S)\n",
      "plt.ylim((-domlen,domlen))\n",
      "plt.xlim((-domlen,domlen))\n",
      "plt.colorbar()\n",
      "plt.subplot(2,2,4)\n",
      "plt.plot(X[50,:],LS[0,:])\n",
      "plt.xlim((-domlen,domlen))\n",
      "plt.grid(True)\n",
      "plt.show()"
     ],
     "language": "python",
     "metadata": {},
     "outputs": [],
     "prompt_number": 283
    },
    {
     "cell_type": "code",
     "collapsed": false,
     "input": [
      "plt.subplot(2,2,)\n",
      "plt.plot(X[50,:],LS[50,:])\n",
      "plt.show()"
     ],
     "language": "python",
     "metadata": {},
     "outputs": [],
     "prompt_number": 215
    },
    {
     "cell_type": "code",
     "collapsed": false,
     "input": [],
     "language": "python",
     "metadata": {},
     "outputs": []
    }
   ],
   "metadata": {}
  }
 ]
}