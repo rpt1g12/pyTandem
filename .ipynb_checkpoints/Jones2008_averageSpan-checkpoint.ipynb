{
 "cells": [
  {
   "cell_type": "code",
   "execution_count": 1,
   "metadata": {
    "collapsed": true
   },
   "outputs": [],
   "source": [
    "from plots2d import *\n",
    "import matplotlib.pyplot as plt\n",
    "import numpy as np\n",
    "import stats\n",
    "import indx"
   ]
  },
  {
   "cell_type": "code",
   "execution_count": 2,
   "metadata": {
    "collapsed": false
   },
   "outputs": [],
   "source": [
    "p1=plot2d('Cf_forced50.dat')\n",
    "p2=plot2d('Cf_inflow75.dat')\n",
    "p3=plot2d('Cf.dat')\n",
    "p1.x+=0.5\n",
    "p1.y*=-1\n",
    "p2.x+=0.5\n",
    "p2.y*=-1\n",
    "p3.x+=0.5\n",
    "p3.y*=-1\n",
    "span=0.2\n",
    "h=span/50"
   ]
  },
  {
   "cell_type": "code",
   "execution_count": 3,
   "metadata": {
    "collapsed": true
   },
   "outputs": [],
   "source": [
    "z=np.array([i*h-0.1 for i in range(0,51)])\n",
    "r=z[:]*0.0\n",
    "u=np.array([0.0 for i in range(0,151)])\n",
    "v=np.array([0.0 for i in range(0,151)])\n",
    "w=np.array([0.0 for i in range(0,201)])"
   ]
  },
  {
   "cell_type": "code",
   "execution_count": 4,
   "metadata": {
    "collapsed": false
   },
   "outputs": [],
   "source": [
    "for i in range(0,151):\n",
    "    for k in range(0,51):\n",
    "        l=indx.wall(i,k,150)\n",
    "        r[k]=p1.y[l]\n",
    "    u[i]=stats.avg(r,z)\n",
    "    \n",
    "for i in range(0,151):\n",
    "    for k in range(0,51):\n",
    "        l=indx.wall(i,k,150)\n",
    "        r[k]=p2.y[l]\n",
    "    v[i]=stats.avg(r,z)\n",
    "    \n",
    "for i in range(0,201):\n",
    "    for k in range(0,51):\n",
    "        l=indx.wall(i,k,200)\n",
    "        r[k]=p3.y[l]\n",
    "    w[i]=stats.avg(r,z)"
   ]
  },
  {
   "cell_type": "code",
   "execution_count": 5,
   "metadata": {
    "collapsed": true
   },
   "outputs": [],
   "source": [
    "px,py=np.loadtxt('plot.dat',skiprows=1,unpack=True)"
   ]
  },
  {
   "cell_type": "code",
   "execution_count": 6,
   "metadata": {
    "collapsed": false
   },
   "outputs": [],
   "source": [
    "plt.plot(p1.x[0:151],u,'b-',label='avg_forced50',linewidth=3.0)\n",
    "plt.plot(p2.x[0:151],v,'r--',label='avg_inflow75',linewidth=3.0)\n",
    "plt.plot(p3.x[0:201],w,'g-^',label='G2_avg_forced50',linewidth=3.0,markevery=5)\n",
    "plt.plot(px,py,'ko',label='3DU',markersize=5.0)\n",
    "plt.legend()\n",
    "plt.grid(True)\n",
    "#plt.gca().invert_yaxis()\n",
    "plt.gca().yaxis.set_ticks(np.arange(-0.04, 0.16, 0.01))\n",
    "plt.xlabel('x/c')\n",
    "plt.ylabel('Cf')\n",
    "plt.show()"
   ]
  },
  {
   "cell_type": "code",
   "execution_count": null,
   "metadata": {
    "collapsed": true
   },
   "outputs": [],
   "source": []
  }
 ],
 "metadata": {
  "kernelspec": {
   "display_name": "Python 2",
   "language": "python",
   "name": "python2"
  },
  "language_info": {
   "codemirror_mode": {
    "name": "ipython",
    "version": 2
   },
   "file_extension": ".py",
   "mimetype": "text/x-python",
   "name": "python",
   "nbconvert_exporter": "python",
   "pygments_lexer": "ipython2",
   "version": "2.7.5+"
  }
 },
 "nbformat": 4,
 "nbformat_minor": 0
}
