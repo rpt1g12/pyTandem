{
 "metadata": {
  "name": "",
  "signature": "sha256:c447a43a348adca18f949c6867ce8f48faf36d27e750fb0eef8bf4b121668626"
 },
 "nbformat": 3,
 "nbformat_minor": 0,
 "worksheets": [
  {
   "cells": [
    {
     "cell_type": "code",
     "collapsed": false,
     "input": [
      "import numpy as np\n",
      "from scipy import signal\n",
      "import matplotlib.pyplot as plt\n",
      "import matplotlib\n",
      "from lib.stats import *"
     ],
     "language": "python",
     "metadata": {},
     "outputs": [],
     "prompt_number": 5
    },
    {
     "cell_type": "code",
     "collapsed": false,
     "input": [
      "datakind='clData'\n",
      "dataset='cl'\n",
      "cl,cd,t=np.loadtxt(datakind+'/'+dataset+'.dat',skiprows=0,unpack=True)\n",
      "a=20\n",
      "ra0=a*np.pi/180\n",
      "ra1=np.cos(ra0)\n",
      "ra2=np.sin(ra0)\n",
      "Cl=cl*ra1-cd*ra2\n",
      "Cd=cl*ra2+cd*ra1"
     ],
     "language": "python",
     "metadata": {},
     "outputs": [],
     "prompt_number": 6
    },
    {
     "cell_type": "code",
     "collapsed": false,
     "input": [
      "acl=avg(Cl,t)\n",
      "acd=avg(Cd,t)"
     ],
     "language": "python",
     "metadata": {},
     "outputs": [],
     "prompt_number": 3
    },
    {
     "cell_type": "code",
     "collapsed": false,
     "input": [
      "plt.plot(t,Cl)\n",
      "plt.plot((t[0],t[-1]),(acl,acl))\n",
      "plt.grid(True)\n",
      "plt.xlabel(r'$t$',fontsize=16)\n",
      "plt.ylabel(r'$C_l$',fontsize=16)\n",
      "plt.show()"
     ],
     "language": "python",
     "metadata": {},
     "outputs": [],
     "prompt_number": 4
    },
    {
     "cell_type": "code",
     "collapsed": false,
     "input": [
      "plt.plot(t,Cd)\n",
      "plt.plot((t[0],t[-1]),(acd,acd))\n",
      "plt.grid(True)\n",
      "plt.xlabel(r'$t$',fontsize=16)\n",
      "plt.ylabel(r'$C_d$',fontsize=16)\n",
      "plt.show()"
     ],
     "language": "python",
     "metadata": {},
     "outputs": [],
     "prompt_number": 14
    },
    {
     "cell_type": "code",
     "collapsed": false,
     "input": [],
     "language": "python",
     "metadata": {},
     "outputs": []
    }
   ],
   "metadata": {}
  }
 ]
}