{
 "metadata": {
  "name": "",
  "signature": "sha256:324cc35eea1be38abd34c92ff39cb6422815ec5ae2b1f98216900bd172d2bb95"
 },
 "nbformat": 3,
 "nbformat_minor": 0,
 "worksheets": []
}