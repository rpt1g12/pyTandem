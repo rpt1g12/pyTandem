{
 "cells": [
  {
   "cell_type": "code",
   "execution_count": 14,
   "metadata": {
    "collapsed": false
   },
   "outputs": [],
   "source": [
    "import numpy as np\n",
    "from scipy import signal\n",
    "import matplotlib.pyplot as plt\n",
    "import matplotlib\n",
    "from lib.stats import *\n",
    "from lib.matplotlib2tikz import save as tikz_save"
   ]
  },
  {
   "cell_type": "code",
   "execution_count": 15,
   "metadata": {
    "collapsed": false
   },
   "outputs": [],
   "source": [
    "aoa='20'\n",
    "if 6==(int(float(aoa))):\n",
    "    clh=0.55\n",
    "    cdh=0.042\n",
    "if 10==(int(float(aoa))):\n",
    "    clh=0.89\n",
    "    cdh=0.059\n",
    "if 20==(int(float(aoa))):\n",
    "    clh=0.72\n",
    "    cdh=0.287\n",
    "dataset='clData/A15W11AoA'+aoa+'.dat'\n",
    "n,t,cl,cd=np.loadtxt(dataset,skiprows=1,unpack=True)"
   ]
  },
  {
   "cell_type": "code",
   "execution_count": 16,
   "metadata": {
    "collapsed": false
   },
   "outputs": [],
   "source": [
    "#plt.subplot(2,1,1)\n",
    "plt.plot(t,cl,'b',markevery=10000,label='Simulation')\n",
    "plt.plot((t[0],t[len(t)-1]),(clh,clh),'r-',label='Experiment')\n",
    "plt.grid(True)\n",
    "plt.ylim(0.0,1)\n",
    "#plt.xlim(60,64)\n",
    "plt.yscale\n",
    "plt.xlabel(r'$t$',fontsize=16)\n",
    "plt.ylabel(r'$C_l$',fontsize=16)\n",
    "plt.title(r'$\\alpha='+aoa+'$')\n",
    "plt.legend(bbox_to_anchor=(0., 1.02, 1., .102), loc=3,\n",
    "           ncol=2, mode=\"expand\", borderaxespad=0.)\n",
    "plt.show()"
   ]
  },
  {
   "cell_type": "code",
   "execution_count": null,
   "metadata": {
    "collapsed": false
   },
   "outputs": [],
   "source": [
    "#plt.subplot(2,1,2)\n",
    "plt.plot(t,cd,'b',markevery=1000)\n",
    "plt.plot((t[0],t[len(t)-1]),(cdh,cdh),'r-')\n",
    "plt.grid(True)\n",
    "plt.ylim(0.0,0.35)\n",
    "#plt.xlim(60,64)\n",
    "plt.yscale\n",
    "plt.xlabel(r'$t$',fontsize=16)\n",
    "plt.ylabel(r'$C_d$',fontsize=16)\n",
    "plt.title(r'$\\alpha='+aoa+'$')\n",
    "plt.show()"
   ]
  },
  {
   "cell_type": "code",
   "execution_count": 4,
   "metadata": {
    "collapsed": false
   },
   "outputs": [],
   "source": [
    "dataset='clData/HansenCd.dat'\n",
    "a,cl2=np.loadtxt(dataset,skiprows=1,unpack=True)"
   ]
  },
  {
   "cell_type": "code",
   "execution_count": 5,
   "metadata": {
    "collapsed": false
   },
   "outputs": [],
   "source": [
    "plt.plot(a,cl2,'b-o',markevery=1)\n",
    "plt.grid(True)\n",
    "#plt.ylim(0,1)\n",
    "#plt.xlim(60,62)\n",
    "plt.xlabel(r'$\\alpha$',fontsize=16)\n",
    "plt.ylabel(r'$C_l$',fontsize=16)\n",
    "plt.show()"
   ]
  }
 ],
 "metadata": {
  "kernelspec": {
   "display_name": "Python 3",
   "language": "python",
   "name": "python3"
  },
  "language_info": {
   "codemirror_mode": {
    "name": "ipython",
    "version": 3
   },
   "file_extension": ".py",
   "mimetype": "text/x-python",
   "name": "python",
   "nbconvert_exporter": "python",
   "pygments_lexer": "ipython3",
   "version": "3.4.3"
  }
 },
 "nbformat": 4,
 "nbformat_minor": 0
}
