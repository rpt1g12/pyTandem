{
 "cells": [
  {
   "cell_type": "code",
   "execution_count": 1,
   "metadata": {
    "collapsed": false
   },
   "outputs": [],
   "source": [
    "from scipy.signal import coherence as msc\n",
    "from scipy.signal import welch as psdw\n",
    "from scipy import signal as sgl\n",
    "import numpy as np\n",
    "import matplotlib.pyplot as plt"
   ]
  },
  {
   "cell_type": "code",
   "execution_count": 2,
   "metadata": {
    "collapsed": false
   },
   "outputs": [],
   "source": [
    "x=np.loadtxt('spectralData/pt007.dat',skiprows=0,unpack=True,usecols=range(102))\n",
    "xcl=np.loadtxt('spectralData/clSignal.dat',skiprows=0,unpack=True,usecols=range(4))"
   ]
  },
  {
   "cell_type": "code",
   "execution_count": 13,
   "metadata": {
    "collapsed": false
   },
   "outputs": [],
   "source": [
    "lzee=x.shape[0];lzes=1;lze=lzee-lzes\n",
    "n=64;ffilt=0.2\n",
    "k=sgl.firwin(n,ffilt)\n",
    "for i in range(lzes,lzee):\n",
    "    #z[i,:]=z[i,:]-z[i,:].mean()\n",
    "    xf=np.convolve(x[i],k,mode='valid')\n",
    "    if (i==lzes):\n",
    "        z=np.zeros((lze+1,len(xf)))\n",
    "        z[0,:]=x[0,n//2:len(xf)+n//2]\n",
    "    z[i,:]=xf[:]\n",
    "\n",
    "for i in range(2,4):\n",
    "    #z[i,:]=z[i,:]-z[i,:].mean()\n",
    "    xclf=np.convolve(xcl[i],k,mode='valid')\n",
    "    if (i==2):\n",
    "        zcl=np.zeros((lze+1,len(xclf)))\n",
    "        zcl[0,:]=xcl[0,n//2:len(xclf)+n//2]\n",
    "        zcl[1,:]=xcl[1,n//2:len(xclf)+n//2]\n",
    "    zcl[i,:]=xclf[:]"
   ]
  },
  {
   "cell_type": "code",
   "execution_count": 14,
   "metadata": {
    "collapsed": false
   },
   "outputs": [],
   "source": [
    "ntotal=z.shape[1];lzee=z.shape[0];lzes=1;lze=lzee-lzes"
   ]
  },
  {
   "cell_type": "code",
   "execution_count": 15,
   "metadata": {
    "collapsed": false
   },
   "outputs": [
    {
     "name": "stdout",
     "output_type": "stream",
     "text": [
      "0.02 50.0\n"
     ]
    }
   ],
   "source": [
    "tsam=round(z[0,1]-z[0,0],3);fsam=round(1.0/tsam,4);print(tsam,fsam)"
   ]
  },
  {
   "cell_type": "code",
   "execution_count": 29,
   "metadata": {
    "collapsed": true
   },
   "outputs": [],
   "source": [
    "ovlp=0.1;nwin=6;ntt=0;plot=1"
   ]
  },
  {
   "cell_type": "code",
   "execution_count": 30,
   "metadata": {
    "collapsed": false
   },
   "outputs": [
    {
     "name": "stdout",
     "output_type": "stream",
     "text": [
      "nseg0= 261\n",
      "Overlap modified to  0.098 to fit data\n",
      "Overlap modified to  0.102 to fit data\n",
      "Overlap modified to  0.106 to fit data\n"
     ]
    }
   ],
   "source": [
    "start=[];end=[]\n",
    "ofst=1.0-ovlp\n",
    "nt=ntotal-1\n",
    "nseg=round(float(nt)/((nwin-1)*ofst+1.0));print('nseg0=',nseg)\n",
    "while(ntt!=ntotal):\n",
    "    if(nwin==1):\n",
    "        ofst=1.0\n",
    "    else:\n",
    "        ofst=(float(nt)/nseg-1)/(nwin-1)\n",
    "    nseg=round(float(nt)/((nwin-1)*ofst+1.0));\n",
    "    if(nwin==1):\n",
    "        ofst=1.0\n",
    "    else:\n",
    "        ofst=(float(nt)/nseg-1)/(nwin-1);\n",
    "    ovlp=1.0-ofst\n",
    "    iovlp=int(np.ceil(ovlp*nseg));iofst=nseg-iovlp\n",
    "    \n",
    "    flag=0\n",
    "    while (ofst>1.0):\n",
    "        nseg+=1\n",
    "        ofst=(float(nt)/nseg)/(nwin-1)\n",
    "        flag=1\n",
    "    if(flag==1):\n",
    "        print('Offset was more than segment length!!')\n",
    "    ovlp=1.0-ofst \n",
    "\n",
    "    print('Overlap modified to ',round(ovlp,3),'to fit data')\n",
    "    iovlp=int(np.ceil(ovlp*nseg));iofst=nseg-iovlp\n",
    "\n",
    "    for i in range(nwin):\n",
    "        start.append((i)*iofst)\n",
    "        end.append((i)*iofst+nseg)\n",
    "    ntt=1+end[-1]-start[0]\n",
    "    if(ntt!=ntotal):\n",
    "        nseg+=1\n",
    "\n",
    "if(plot==1):      \n",
    "    for i in range(nwin):\n",
    "        plt.plot(z[0,start[i]:end[i]+1],z[2,start[i]:end[i]+1],label='s'+str(i+1))\n",
    "    ctitle=('ntotal='+str(1+end[-1]-start[0])+' nseg='+str(nseg)+' iovlp='+str(iovlp))\n",
    "    ctitle2=('\\n Final overlap of segments is '+str(round(100.0*ovlp,3))+'%')\n",
    "    plt.legend(bbox_to_anchor=(0., -0.115, 1., -.15), loc=3,\n",
    "               ncol=nwin, mode=\"expand\", borderaxespad=0.)\n",
    "    plt.title(ctitle+ctitle2)\n",
    "\n",
    "    plt.show()\n",
    "\n",
    "for i in range(lzes,lzee):\n",
    "    ff,clp=msc(zcl[2,0:ntt],z[i,0:ntt],fs=fsam,window='hann',nperseg=nseg,noverlap=iovlp)\n",
    "    #cpp,ff=plt.cohere(zcl[2,:],z[i,:],nseg,fsam,noverlap=iovlp)\n",
    "    if (i==lzes):\n",
    "        Clp=np.zeros((lze,ff.shape[0]))\n",
    "    Clp[i-1,:]=clp[:]\n",
    "fmax=-1\n",
    "zz=range(101)\n",
    "X, Y = np.meshgrid(ff[0:fmax], zz)\n",
    "plt.contourf(X,Y,Clp[:,0:fmax])\n",
    "plt.ylabel(r'$\\zeta$',fontsize=16)\n",
    "plt.xlabel(r'$f^*$',fontsize=16)\n",
    "plt.colorbar();\n",
    "plt.show()"
   ]
  },
  {
   "cell_type": "code",
   "execution_count": 22,
   "metadata": {
    "collapsed": true
   },
   "outputs": [],
   "source": [
    "plt.plot(ff,Clp[65,:]);plt.show()"
   ]
  },
  {
   "cell_type": "code",
   "execution_count": 23,
   "metadata": {
    "collapsed": false
   },
   "outputs": [],
   "source": [
    "\n",
    "for j in range(lzes,lzee):\n",
    "    for i in range(lzes,lzee):\n",
    "        ff,cpp=msc(z[j,0:ntt],z[i,0:ntt],fs=fsam,nperseg=nseg,noverlap=iovlp)\n",
    "        if (i==lzes and j==lzes):\n",
    "            Cpp=np.zeros((lze,lze,ff.shape[0]))\n",
    "        Cpp[j-1,i-1,:]=cpp\n",
    "\n",
    "zz=range(101)\n",
    "X, Y = np.meshgrid(ff, zz)"
   ]
  },
  {
   "cell_type": "code",
   "execution_count": 27,
   "metadata": {
    "collapsed": false
   },
   "outputs": [],
   "source": [
    "m=round(12.5*2)\n",
    "#m=80\n",
    "#plt.subplot(211)\n",
    "plt.contourf(X,Y,Cpp[m,:,:])\n",
    "plt.title(r'$\\zeta$='+str(m)+r' base MSC $C_f\\prime$')\n",
    "plt.ylabel(r'$\\zeta$',fontsize=16)\n",
    "plt.xlabel(r'$f^*$',fontsize=16)\n",
    "plt.colorbar();\n",
    "#plt.subplot(212)\n",
    "#plt.plot(z[0,:],z[m+1,:])\n",
    "plt.show()"
   ]
  },
  {
   "cell_type": "code",
   "execution_count": 124,
   "metadata": {
    "collapsed": true
   },
   "outputs": [],
   "source": [
    "CL=np.fft.fft(zcl[2,800:])\n"
   ]
  },
  {
   "cell_type": "code",
   "execution_count": 135,
   "metadata": {
    "collapsed": false
   },
   "outputs": [],
   "source": [
    "CLmag=np.absolute(CL);\n",
    "n=len(CLmag)"
   ]
  },
  {
   "cell_type": "code",
   "execution_count": 138,
   "metadata": {
    "collapsed": false
   },
   "outputs": [],
   "source": [
    "plt.semilogx(CLmag[:100]/n)\n",
    "plt.show()"
   ]
  },
  {
   "cell_type": "code",
   "execution_count": 9,
   "metadata": {
    "collapsed": true
   },
   "outputs": [],
   "source": [
    "ff,CC=psdw(zcl[2,0:ntt],fs=fsam,nperseg=nseg,noverlap=iovlp)"
   ]
  },
  {
   "cell_type": "code",
   "execution_count": 12,
   "metadata": {
    "collapsed": true
   },
   "outputs": [],
   "source": [
    "plt.plot(ff,CC);plt.show()"
   ]
  },
  {
   "cell_type": "code",
   "execution_count": 11,
   "metadata": {
    "collapsed": false
   },
   "outputs": [
    {
     "data": {
      "text/plain": [
       "342"
      ]
     },
     "execution_count": 11,
     "metadata": {},
     "output_type": "execute_result"
    }
   ],
   "source": [
    "nseg"
   ]
  },
  {
   "cell_type": "code",
   "execution_count": 44,
   "metadata": {
    "collapsed": false
   },
   "outputs": [
    {
     "name": "stdout",
     "output_type": "stream",
     "text": [
      "[ 0.03571429  0.24107143  0.44642857  0.24107143  0.03571429]\n"
     ]
    }
   ],
   "source": [
    "k=sgl.firwin(5,0.000001)\n",
    "print(k)"
   ]
  },
  {
   "cell_type": "code",
   "execution_count": 36,
   "metadata": {
    "collapsed": false
   },
   "outputs": [],
   "source": [
    "n=32;nt=1501\n",
    "k=sgl.firwin(n,0.1)\n",
    "t=z[0,:nt]\n",
    "m=2\n",
    "x=zcl[2,:nt];\n",
    "xf=np.convolve(x,k,mode='valid')\n",
    "tf=t[n//2:len(xf)+n//2]\n",
    "plt.plot(tf,xf,t,x);plt.show()"
   ]
  },
  {
   "cell_type": "code",
   "execution_count": 27,
   "metadata": {
    "collapsed": false
   },
   "outputs": [
    {
     "data": {
      "text/plain": [
       "1374"
      ]
     },
     "execution_count": 27,
     "metadata": {},
     "output_type": "execute_result"
    }
   ],
   "source": [
    "len(tf)"
   ]
  },
  {
   "cell_type": "code",
   "execution_count": 22,
   "metadata": {
    "collapsed": false
   },
   "outputs": [
    {
     "data": {
      "text/plain": [
       "(1470,)"
      ]
     },
     "execution_count": 22,
     "metadata": {},
     "output_type": "execute_result"
    }
   ],
   "source": [
    "xf.shape"
   ]
  },
  {
   "cell_type": "code",
   "execution_count": null,
   "metadata": {
    "collapsed": true
   },
   "outputs": [],
   "source": []
  }
 ],
 "metadata": {
  "kernelspec": {
   "display_name": "Python 3",
   "language": "python",
   "name": "python3"
  },
  "language_info": {
   "codemirror_mode": {
    "name": "ipython",
    "version": 3
   },
   "file_extension": ".py",
   "mimetype": "text/x-python",
   "name": "python",
   "nbconvert_exporter": "python",
   "pygments_lexer": "ipython3",
   "version": "3.4.3"
  }
 },
 "nbformat": 4,
 "nbformat_minor": 0
}
