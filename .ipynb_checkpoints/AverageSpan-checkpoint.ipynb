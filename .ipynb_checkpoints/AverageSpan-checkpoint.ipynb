{
 "cells": [
  {
   "cell_type": "code",
   "execution_count": 1,
   "metadata": {
    "collapsed": false
   },
   "outputs": [],
   "source": [
    "import numpy as np\n",
    "from scipy import signal\n",
    "import matplotlib.pyplot as plt\n",
    "import matplotlib\n",
    "from lib.stats import *\n",
    "from lib.plots2d import *\n",
    "from lib.indx import indx "
   ]
  },
  {
   "cell_type": "code",
   "execution_count": 12,
   "metadata": {
    "collapsed": false
   },
   "outputs": [],
   "source": [
    "datakind='cfData'\n",
    "dataset='CfA15W11AoA20'"
   ]
  },
  {
   "cell_type": "code",
   "execution_count": 13,
   "metadata": {
    "collapsed": false
   },
   "outputs": [],
   "source": [
    "if datakind=='wPlusData':\n",
    "     x,y,z,xp,yp,zp=np.loadtxt(datakind+'/'+dataset+'.dat',skiprows=1,unpack=True)\n",
    "elif datakind=='cfData':\n",
    "     x,cf=np.loadtxt(datakind+'/'+dataset+'.dat',skiprows=1,unpack=True)\n",
    "elif datakind=='cpData':\n",
    "     x,cp=np.loadtxt(datakind+'/'+dataset+'.dat',skiprows=1,unpack=True)"
   ]
  },
  {
   "cell_type": "code",
   "execution_count": 14,
   "metadata": {
    "collapsed": false
   },
   "outputs": [],
   "source": [
    "nxi=315\n",
    "nze=100\n",
    "atk=24\n",
    "span=0.22\n",
    "average=True\n",
    "g=cf"
   ]
  },
  {
   "cell_type": "code",
   "execution_count": 15,
   "metadata": {
    "collapsed": false
   },
   "outputs": [],
   "source": [
    "if average:\n",
    "   f=cf\n",
    "   h2=span/nze\n",
    "   z2=np.array([i*h2-0.1 for i in range(0,nze+1)])\n",
    "   r2=z2[:]*0.0\n",
    "   w3=np.array([0.0 for i in range(0,nxi+1)])\n",
    "   for i in range(0,nxi+1):\n",
    "       for k in range(0,nze+1):\n",
    "           l=indx(i,k,nxi)\n",
    "           r2[k]=f[l]\n",
    "       w3[i]=avg(r2,z2)"
   ]
  },
  {
   "cell_type": "code",
   "execution_count": 16,
   "metadata": {
    "collapsed": false
   },
   "outputs": [],
   "source": [
    "if average:\n",
    "   plt.plot(x[0:nxi+1],w3)\n",
    "   plt.grid(True)\n",
    "   plt.xlabel(r'$x/c$',fontsize=16)\n",
    "   plt.ylabel(r'$x^+$',fontsize=16)\n",
    "   plt.show()\n",
    "else:\n",
    "   l=indx(0,atk,nxi)\n",
    "   plt.plot(x[l:l+nxi+1],g[l:l+nxi+1])\n",
    "   plt.grid(True)\n",
    "   plt.xlabel(r'$x/c$',fontsize=16)\n",
    "   plt.ylabel(r'$C_f$',fontsize=16)\n",
    "   plt.show()"
   ]
  },
  {
   "cell_type": "code",
   "execution_count": null,
   "metadata": {
    "collapsed": false
   },
   "outputs": [],
   "source": []
  }
 ],
 "metadata": {
  "kernelspec": {
   "display_name": "Python 3",
   "language": "python",
   "name": "python3"
  },
  "language_info": {
   "codemirror_mode": {
    "name": "ipython",
    "version": 3
   },
   "file_extension": ".py",
   "mimetype": "text/x-python",
   "name": "python",
   "nbconvert_exporter": "python",
   "pygments_lexer": "ipython3",
   "version": "3.4.3"
  }
 },
 "nbformat": 4,
 "nbformat_minor": 0
}
