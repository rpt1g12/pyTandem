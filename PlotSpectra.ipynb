{
 "cells": [
  {
   "cell_type": "code",
   "execution_count": 3,
   "metadata": {
    "collapsed": false
   },
   "outputs": [],
   "source": [
    "import numpy as np\n",
    "from scipy import signal\n",
    "import matplotlib.pyplot as plt\n",
    "import lib.stats as stats\n",
    "from lib.plots2d import *\n",
    "import lib.indx as indx\n",
    "from lib.matplotlib2tikz import save as tikz_save"
   ]
  },
  {
   "cell_type": "code",
   "execution_count": 31,
   "metadata": {
    "collapsed": false
   },
   "outputs": [],
   "source": [
    "fq,su,sv,sw,k=np.loadtxt('spectralData/spectra.dat',skiprows=0,unpack=True)\n",
    "fdns,kdns=np.loadtxt('spectralData/fig7b_3.dat',skiprows=0,unpack=True)\n",
    "x=np.array([n**(-5.0/3.0) for n in fq])\n",
    "x/=3000\n",
    "plt.plot(fdns,kdns,'k',label='Jones 2008',linewidth=2.0)\n",
    "plt.plot(fq,k,'b',label='LES',linewidth=2.0)\n",
    "#plt.loglog(fq,D,'g',label='LES',linewidth=2.0)\n",
    "plt.loglog(fq,x,'r--',label='-5/3 slope',linewidth=2.0)\n",
    "#plt.semilogy(fq,x,'r--',label='-5/3 slope',linewidth=2.0)\n",
    "plt.legend(bbox_to_anchor=(0., 1.02, 1., .102), loc=3,\n",
    "           ncol=3, mode=\"expand\", borderaxespad=0.)\n",
    "plt.xlabel(r'$f$',fontsize=15)\n",
    "plt.ylabel(r'$S_k$',fontsize=15)\n",
    "plt.grid(True)\n",
    "#tikz_save('spectraComparison.tex',figurewidth = '\\\\textwidth')\n",
    "plt.show()"
   ]
  },
  {
   "cell_type": "code",
   "execution_count": 13,
   "metadata": {
    "collapsed": false
   },
   "outputs": [],
   "source": [
    "D=np.zeros(len(fq))\n",
    "for i in range(0,len(fq)):\n",
    "    D[i]=(2/1.2e5)*fq[i]*fq[i]*k[i]"
   ]
  },
  {
   "cell_type": "code",
   "execution_count": 14,
   "metadata": {
    "collapsed": false
   },
   "outputs": [],
   "source": [
    "plt.loglog(fq,D,'b',label='LES',linewidth=2.0)\n",
    "plt.legend(bbox_to_anchor=(0., 1.02, 1., .102), loc=3,\n",
    "           ncol=3, mode=\"expand\", borderaxespad=0.)\n",
    "plt.xlabel(r'$f$',fontsize=15)\n",
    "plt.ylabel(r'$S_k$',fontsize=15)\n",
    "plt.grid(True)\n",
    "plt.show()"
   ]
  }
 ],
 "metadata": {
  "kernelspec": {
   "display_name": "Python 3",
   "language": "python",
   "name": "python3"
  },
  "language_info": {
   "codemirror_mode": {
    "name": "ipython",
    "version": 3
   },
   "file_extension": ".py",
   "mimetype": "text/x-python",
   "name": "python",
   "nbconvert_exporter": "python",
   "pygments_lexer": "ipython3",
   "version": "3.4.3"
  }
 },
 "nbformat": 4,
 "nbformat_minor": 0
}
