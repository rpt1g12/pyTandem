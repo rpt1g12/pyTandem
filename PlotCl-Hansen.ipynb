{
 "cells": [
  {
   "cell_type": "code",
   "execution_count": 1,
   "metadata": {
    "collapsed": false
   },
   "outputs": [],
   "source": [
    "import numpy as np\n",
    "from scipy import signal\n",
    "import matplotlib.pyplot as plt\n",
    "import matplotlib\n",
    "from lib.stats import *\n",
    "from lib.stats import myDFT as myDFT\n",
    "from lib.matplotlib2tikz import save as tikz_save"
   ]
  },
  {
   "cell_type": "code",
   "execution_count": 2,
   "metadata": {
    "collapsed": false
   },
   "outputs": [
    {
     "name": "stdout",
     "output_type": "stream",
     "text": [
      "1.0 0.0 1.44 0.0 0.574\n"
     ]
    }
   ],
   "source": [
    "aoa='20'; A='15'; folder='clean'; nW=''\n",
    "M=0.0;sgs=0;force=0;two=0\n",
    "if 6==(int(float(aoa))):\n",
    "    clh=0.55\n",
    "    cdh=0.042\n",
    "    lfctr=1\n",
    "    dfctr=1\n",
    "    ylim0=clh*(1-lfctr)\n",
    "    ylim1=clh*(1+lfctr)\n",
    "    ylim2=cdh*(1-dfctr)\n",
    "    ylim3=cdh*(1+dfctr)\n",
    "    sgs=0\n",
    "    force=0\n",
    "    col=2\n",
    "    two=0\n",
    "if 10==(int(float(aoa))):\n",
    "    clh=0.89\n",
    "    cdh=0.059\n",
    "    lfctr=1\n",
    "    dfctr=1\n",
    "    ylim0=clh*(1-lfctr)\n",
    "    ylim1=clh*(1+lfctr)\n",
    "    ylim2=cdh*(1-dfctr)\n",
    "    ylim3=cdh*(1+dfctr)\n",
    "    sgs=0\n",
    "    force=0\n",
    "    col=2\n",
    "    two=0\n",
    "if 20==(int(float(aoa))):\n",
    "    clh=0.72\n",
    "    cdh=0.287\n",
    "    if 0==(int(float(A))):\n",
    "        clh=0.64;cdh=0.32\n",
    "    lfctr=1.0\n",
    "    dfctr=1.0\n",
    "    ylim0=clh*(1-lfctr)\n",
    "    ylim1=clh*(1+lfctr)\n",
    "    ylim2=cdh*(1-dfctr)\n",
    "    ylim3=cdh*(1+dfctr)\n",
    "    col=2+sgs+force+two\n",
    "    \n",
    "dataset='clData/'+folder+'/'+nW+'A'+A+'W11AoA'+aoa+'.dat'\n",
    "n,t,cl,cd=np.loadtxt(dataset,skiprows=1,unpack=True)\n",
    "if sgs==1: \n",
    "    dataset='clData/A15W11AoA'+aoa+'sgs.dat'\n",
    "    n2,t2,cl2,cd2=np.loadtxt(dataset,skiprows=1,unpack=True)\n",
    "if force==1: \n",
    "    dataset='clData/A15W11AoA'+aoa+'Forcing.dat'\n",
    "    n3,t3,cl3,cd3=np.loadtxt(dataset,skiprows=1,unpack=True)\n",
    "if two==1: \n",
    "    dataset='clData/'+folder+'/3A15W11AoA'+aoa+'.dat'\n",
    "    n4,t4,cl4,cd4=np.loadtxt(dataset,skiprows=1,unpack=True)\n",
    "beta=(1.0-M**2)**0.5\n",
    "print(beta,ylim0,ylim1,ylim2,ylim3)\n"
   ]
  },
  {
   "cell_type": "code",
   "execution_count": 3,
   "metadata": {
    "collapsed": false
   },
   "outputs": [],
   "source": [
    "plt.figure(figsize=(10,8))\n",
    "ax1=plt.subplot(2,1,1)\n",
    "skip=1\n",
    "plt.plot(t,beta*cl,'b-o',markevery=skip,label='Simulation')\n",
    "if sgs==1:\n",
    "    plt.plot(t2,beta*cl2,markevery=skip,label='SGS')\n",
    "if force==1:\n",
    "    plt.plot(t3,beta*cl3,markevery=skip,label='Forcing') \n",
    "if two==1:\n",
    "    plt.plot(t4,beta*cl4,markevery=skip,label='Double WL')\n",
    "plt.plot((t[0],t[len(t)-1]),(clh,clh),'r--',label='Experiment~\\citep{Hansen2011}')\n",
    "plt.grid(True)\n",
    "plt.ylim(ylim0,ylim1)\n",
    "#plt.xlim(60,64)\n",
    "plt.yscale\n",
    "plt.ylabel(r'$C_l$',fontsize=16)\n",
    "plt.suptitle(r'$\\alpha='+aoa+'$',fontsize=20)\n",
    "plt.legend(bbox_to_anchor=(0., 1.02, 1., .102), loc=3,\n",
    "           ncol=col, mode=\"expand\", borderaxespad=0.)\n",
    "plt.setp( ax1.get_xticklabels(), visible=False)\n",
    "plt.subplot(2,1,2,sharex=ax1)\n",
    "plt.plot(t,beta*cd,markevery=skip)\n",
    "if sgs==1:\n",
    "    plt.plot(t2,beta*cd2,markevery=skip,label='SGS')\n",
    "if force==1:\n",
    "    plt.plot(t3,beta*cd3,markevery=skip,label='Forcing')\n",
    "if two==1:\n",
    "    plt.plot(t4,beta*cd4,markevery=skip,label='Double WL')\n",
    "plt.plot((t[0],t[len(t)-1]),(cdh,cdh),'r--')\n",
    "plt.grid(True)\n",
    "plt.ylim(ylim2,ylim3)\n",
    "#plt.xlim(60,64)\n",
    "plt.yscale\n",
    "plt.xlabel(r'$t^*$',fontsize=16)\n",
    "plt.ylabel(r'$C_d$',fontsize=16)\n",
    "plt.show()"
   ]
  },
  {
   "cell_type": "code",
   "execution_count": 4,
   "metadata": {
    "collapsed": false
   },
   "outputs": [
    {
     "ename": "ValueError",
     "evalue": "too many values to unpack (expected 2)",
     "output_type": "error",
     "traceback": [
      "\u001b[1;31m---------------------------------------------------------------------------\u001b[0m",
      "\u001b[1;31mValueError\u001b[0m                                Traceback (most recent call last)",
      "\u001b[1;32m<ipython-input-4-b35c6da20034>\u001b[0m in \u001b[0;36m<module>\u001b[1;34m()\u001b[0m\n\u001b[0;32m      1\u001b[0m \u001b[0mdataset\u001b[0m\u001b[1;33m=\u001b[0m\u001b[1;34m'clData/HansenCl.dat'\u001b[0m\u001b[1;33m\u001b[0m\u001b[0m\n\u001b[1;32m----> 2\u001b[1;33m \u001b[0ma1\u001b[0m\u001b[1;33m,\u001b[0m\u001b[0mcl1\u001b[0m\u001b[1;33m=\u001b[0m\u001b[0mnp\u001b[0m\u001b[1;33m.\u001b[0m\u001b[0mloadtxt\u001b[0m\u001b[1;33m(\u001b[0m\u001b[0mdataset\u001b[0m\u001b[1;33m,\u001b[0m\u001b[0mskiprows\u001b[0m\u001b[1;33m=\u001b[0m\u001b[1;36m1\u001b[0m\u001b[1;33m,\u001b[0m\u001b[0munpack\u001b[0m\u001b[1;33m=\u001b[0m\u001b[1;32mTrue\u001b[0m\u001b[1;33m)\u001b[0m\u001b[1;33m\u001b[0m\u001b[0m\n\u001b[0m\u001b[0;32m      3\u001b[0m \u001b[0mdataset\u001b[0m\u001b[1;33m=\u001b[0m\u001b[1;34m'clData/HansenCd.dat'\u001b[0m\u001b[1;33m\u001b[0m\u001b[0m\n\u001b[0;32m      4\u001b[0m \u001b[0ma2\u001b[0m\u001b[1;33m,\u001b[0m\u001b[0mcd1\u001b[0m\u001b[1;33m=\u001b[0m\u001b[0mnp\u001b[0m\u001b[1;33m.\u001b[0m\u001b[0mloadtxt\u001b[0m\u001b[1;33m(\u001b[0m\u001b[0mdataset\u001b[0m\u001b[1;33m,\u001b[0m\u001b[0mskiprows\u001b[0m\u001b[1;33m=\u001b[0m\u001b[1;36m1\u001b[0m\u001b[1;33m,\u001b[0m\u001b[0munpack\u001b[0m\u001b[1;33m=\u001b[0m\u001b[1;32mTrue\u001b[0m\u001b[1;33m)\u001b[0m\u001b[1;33m\u001b[0m\u001b[0m\n\u001b[0;32m      5\u001b[0m \u001b[0max2\u001b[0m\u001b[1;33m=\u001b[0m\u001b[0mplt\u001b[0m\u001b[1;33m.\u001b[0m\u001b[0msubplot\u001b[0m\u001b[1;33m(\u001b[0m\u001b[1;36m2\u001b[0m\u001b[1;33m,\u001b[0m\u001b[1;36m1\u001b[0m\u001b[1;33m,\u001b[0m\u001b[1;36m1\u001b[0m\u001b[1;33m)\u001b[0m\u001b[1;33m\u001b[0m\u001b[0m\n",
      "\u001b[1;31mValueError\u001b[0m: too many values to unpack (expected 2)"
     ]
    }
   ],
   "source": [
    "dataset='clData/HansenCl.dat'\n",
    "a1,cl1=np.loadtxt(dataset,skiprows=1,unpack=True)\n",
    "dataset='clData/HansenCd.dat'\n",
    "a2,cd1=np.loadtxt(dataset,skiprows=1,unpack=True)\n",
    "ax2=plt.subplot(2,1,1)\n",
    "plt.plot(a1,cl1,'b-o',markevery=1)\n",
    "plt.grid(True)\n",
    "\n",
    "plt.ylabel(r'$C_l$',fontsize=16)\n",
    "plt.subplot(2,1,2,sharex=ax2)\n",
    "plt.plot(a2,cd1,'b-o',markevery=1)\n",
    "plt.grid(True)\n",
    "plt.xlabel(r'$\\alpha$',fontsize=16)\n",
    "plt.ylabel(r'$C_d$',fontsize=16)\n",
    "plt.show()"
   ]
  },
  {
   "cell_type": "code",
   "execution_count": 5,
   "metadata": {
    "collapsed": false
   },
   "outputs": [],
   "source": [
    "ns=np.where(t>86.0)[0][0]\n",
    "ts=t[ns:];cls=cl[ns:];cds=cd[ns:];t=np.zeros(0);cl=t.copy();cd=t.copy()\n",
    "t=ts.copy();cl=cls.copy();cd=cds.copy()"
   ]
  },
  {
   "cell_type": "code",
   "execution_count": 6,
   "metadata": {
    "collapsed": false
   },
   "outputs": [],
   "source": [
    "#t6=t[ns:];cl6=cl[ns:];cd6=cd[ns:]\n",
    "t6=[90.0,92.0,94.0,96.0,98.0,99.0,100.0]\n",
    "cl6=[0.6952991,0.6735616,0.7455718,0.7808441,0.8153000,0.7987258,0.7958913]\n",
    "cd6=[0.0183593,0.0231886,0.0356946,0.0373039,0.0414119,0.0390747,0.0381271]"
   ]
  },
  {
   "cell_type": "code",
   "execution_count": 7,
   "metadata": {
    "collapsed": false
   },
   "outputs": [
    {
     "name": "stdout",
     "output_type": "stream",
     "text": [
      "0.751487555 0.03309896\n"
     ]
    }
   ],
   "source": [
    "avgCl6=avg(cl6,t6);avgCd6=avg(cd6,t6)\n",
    "print(avgCl6,avgCd6)"
   ]
  },
  {
   "cell_type": "code",
   "execution_count": 8,
   "metadata": {
    "collapsed": true
   },
   "outputs": [],
   "source": [
    "plt.plot(t6,cd6,t,cd);plt.show()"
   ]
  },
  {
   "cell_type": "code",
   "execution_count": 6,
   "metadata": {
    "collapsed": false
   },
   "outputs": [
    {
     "name": "stdout",
     "output_type": "stream",
     "text": [
      "0.892177540282 0.055776154136\n"
     ]
    }
   ],
   "source": [
    "ns=np.where(t>90.0)[0][0]\n",
    "t10=t[ns:];cl10=cl[ns:];cd10=cd[ns:]\n",
    "avgCl10=avg(cl10,t10);avgCd10=avg(cd10,t10)\n",
    "print(avgCl10,avgCd10)"
   ]
  },
  {
   "cell_type": "code",
   "execution_count": 9,
   "metadata": {
    "collapsed": false
   },
   "outputs": [
    {
     "name": "stdout",
     "output_type": "stream",
     "text": [
      "0.640765659153 0.320447312679\n"
     ]
    }
   ],
   "source": [
    "avgCl20=avg(cl,t);avgCd20=avg(cd,t)\n",
    "print(avgCl20,avgCd20)"
   ]
  },
  {
   "cell_type": "code",
   "execution_count": 32,
   "metadata": {
    "collapsed": false
   },
   "outputs": [],
   "source": [
    "path='/home/rpt1g12/Dropbox/phd/figures/wleResults/'\n",
    "plt.figure(figsize=(12,12))\n",
    "matplotlib.rcParams.update({'font.size': 26})\n",
    "#alphaS=[6.0,10.0,20.0];#alphaH=[6.0,10.0,20.0]\n",
    "#clS=[0.751,0.892,0.641];cdS=[0.033,0.056,0.320]\n",
    "alphaS=[10.0,20.0];#alphaH=[6.0,10.0,20.0]\n",
    "clS=[0.892,0.678];cdS=[0.056,0.320]\n",
    "#clH=[0.555,0.895,0.729];cdH=[0.042,0.059,0.286]\n",
    "alphaH,clH,cdH=np.loadtxt('clData/HansenClCd.dat',skiprows=1,unpack=True)\n",
    "#plt.figure(figsize=(10,8))\n",
    "#ax1=plt.subplot(2,1,1)\n",
    "plt.plot(alphaH,clH,'r--s',label='Exp Hansen et al.',ms=12.0)\n",
    "plt.plot(alphaS,clS,'bo',label='Simulation',ms=12.0)\n",
    "plt.plot(20,1.03,'g^',label='Skillen et al.',ms=12.0)\n",
    "plt.ylim(0.0,1.2)\n",
    "plt.ylabel(r'$C_l$',fontsize=26)\n",
    "plt.xlabel(r'$\\alpha$',fontsize=26)\n",
    "plt.legend(bbox_to_anchor=(0., 0.02, 1.0, .102), loc=3,\n",
    "           ncol=2, borderaxespad=0.,fontsize=26)\n",
    "plt.setp( ax1.get_xticklabels(), visible=False)\n",
    "#tikz_save(path+'ClComparison.tex',figurewidth = '\\\\textwidth',figureheight = '\\\\textwidth')\n",
    "#plt.subplot(2,1,2,sharex=ax1)\n",
    "plt.show()\n",
    "plt.figure(figsize=(12,12))\n",
    "plt.plot(alphaH,cdH,'r--s',ms=12.0)\n",
    "plt.plot(alphaS,cdS,'b-o',ms=12.0)\n",
    "plt.plot(20,0.32,'g^',ms=12.0)\n",
    "plt.xlabel(r'$\\alpha$',fontsize=26)\n",
    "plt.ylabel(r'$C_d$',fontsize=26)\n",
    "#tikz_save(path+'CdComparison.tex',figurewidth = '\\\\textwidth',figureheight = '\\\\textwidth')\n",
    "plt.show()"
   ]
  },
  {
   "cell_type": "code",
   "execution_count": 22,
   "metadata": {
    "collapsed": false
   },
   "outputs": [
    {
     "ename": "FileNotFoundError",
     "evalue": "[Errno 2] No such file or directory: 'clData/clean/clshort20.dat'",
     "output_type": "error",
     "traceback": [
      "\u001b[1;31m---------------------------------------------------------------------------\u001b[0m",
      "\u001b[1;31mFileNotFoundError\u001b[0m                         Traceback (most recent call last)",
      "\u001b[1;32m<ipython-input-22-6a9d7979bbb0>\u001b[0m in \u001b[0;36m<module>\u001b[1;34m()\u001b[0m\n\u001b[0;32m      2\u001b[0m \u001b[0mpath\u001b[0m\u001b[1;33m=\u001b[0m\u001b[1;34m'/home/rpt1g12/Dropbox/phd/figures/wleResults/'\u001b[0m\u001b[1;33m\u001b[0m\u001b[0m\n\u001b[0;32m      3\u001b[0m \u001b[0mdataset\u001b[0m\u001b[1;33m=\u001b[0m\u001b[1;34m'clData/'\u001b[0m\u001b[1;33m+\u001b[0m\u001b[0mfolder\u001b[0m\u001b[1;33m+\u001b[0m\u001b[1;34m'/clshort'\u001b[0m\u001b[1;33m+\u001b[0m\u001b[0maoa\u001b[0m\u001b[1;33m+\u001b[0m\u001b[1;34m'.dat'\u001b[0m\u001b[1;33m\u001b[0m\u001b[0m\n\u001b[1;32m----> 4\u001b[1;33m \u001b[0mn\u001b[0m\u001b[1;33m,\u001b[0m\u001b[0mt\u001b[0m\u001b[1;33m,\u001b[0m\u001b[0mcl\u001b[0m\u001b[1;33m,\u001b[0m\u001b[0mcd\u001b[0m\u001b[1;33m=\u001b[0m\u001b[0mnp\u001b[0m\u001b[1;33m.\u001b[0m\u001b[0mloadtxt\u001b[0m\u001b[1;33m(\u001b[0m\u001b[0mdataset\u001b[0m\u001b[1;33m,\u001b[0m\u001b[0mskiprows\u001b[0m\u001b[1;33m=\u001b[0m\u001b[1;36m1\u001b[0m\u001b[1;33m,\u001b[0m\u001b[0munpack\u001b[0m\u001b[1;33m=\u001b[0m\u001b[1;32mTrue\u001b[0m\u001b[1;33m)\u001b[0m\u001b[1;33m\u001b[0m\u001b[0m\n\u001b[0m\u001b[0;32m      5\u001b[0m \u001b[0mskip\u001b[0m\u001b[1;33m=\u001b[0m\u001b[1;36m1\u001b[0m\u001b[1;33m;\u001b[0m\u001b[1;33m\u001b[0m\u001b[0m\n\u001b[0;32m      6\u001b[0m \u001b[0max1\u001b[0m\u001b[1;33m.\u001b[0m\u001b[0mplot\u001b[0m\u001b[1;33m(\u001b[0m\u001b[0mt\u001b[0m\u001b[1;33m,\u001b[0m\u001b[0mbeta\u001b[0m\u001b[1;33m*\u001b[0m\u001b[0mcl\u001b[0m\u001b[1;33m,\u001b[0m\u001b[1;34m'b-'\u001b[0m\u001b[1;33m,\u001b[0m\u001b[0mmarkevery\u001b[0m\u001b[1;33m=\u001b[0m\u001b[0mskip\u001b[0m\u001b[1;33m,\u001b[0m\u001b[0mlabel\u001b[0m\u001b[1;33m=\u001b[0m\u001b[1;34mr'Simulation $\\alpha=10$'\u001b[0m\u001b[1;33m)\u001b[0m\u001b[1;33m\u001b[0m\u001b[0m\n",
      "\u001b[1;32m/home/rpt1g12/anaconda3/lib/python3.4/site-packages/numpy/lib/npyio.py\u001b[0m in \u001b[0;36mloadtxt\u001b[1;34m(fname, dtype, comments, delimiter, converters, skiprows, usecols, unpack, ndmin)\u001b[0m\n\u001b[0;32m    801\u001b[0m                 \u001b[0mfh\u001b[0m \u001b[1;33m=\u001b[0m \u001b[0miter\u001b[0m\u001b[1;33m(\u001b[0m\u001b[0mopen\u001b[0m\u001b[1;33m(\u001b[0m\u001b[0mfname\u001b[0m\u001b[1;33m,\u001b[0m \u001b[1;34m'U'\u001b[0m\u001b[1;33m)\u001b[0m\u001b[1;33m)\u001b[0m\u001b[1;33m\u001b[0m\u001b[0m\n\u001b[0;32m    802\u001b[0m             \u001b[1;32melse\u001b[0m\u001b[1;33m:\u001b[0m\u001b[1;33m\u001b[0m\u001b[0m\n\u001b[1;32m--> 803\u001b[1;33m                 \u001b[0mfh\u001b[0m \u001b[1;33m=\u001b[0m \u001b[0miter\u001b[0m\u001b[1;33m(\u001b[0m\u001b[0mopen\u001b[0m\u001b[1;33m(\u001b[0m\u001b[0mfname\u001b[0m\u001b[1;33m)\u001b[0m\u001b[1;33m)\u001b[0m\u001b[1;33m\u001b[0m\u001b[0m\n\u001b[0m\u001b[0;32m    804\u001b[0m         \u001b[1;32melse\u001b[0m\u001b[1;33m:\u001b[0m\u001b[1;33m\u001b[0m\u001b[0m\n\u001b[0;32m    805\u001b[0m             \u001b[0mfh\u001b[0m \u001b[1;33m=\u001b[0m \u001b[0miter\u001b[0m\u001b[1;33m(\u001b[0m\u001b[0mfname\u001b[0m\u001b[1;33m)\u001b[0m\u001b[1;33m\u001b[0m\u001b[0m\n",
      "\u001b[1;31mFileNotFoundError\u001b[0m: [Errno 2] No such file or directory: 'clData/clean/clshort20.dat'"
     ]
    }
   ],
   "source": [
    "fig,ax1=plt.subplots()\n",
    "path='/home/rpt1g12/Dropbox/phd/figures/wleResults/'\n",
    "dataset='clData/'+folder+'/clshort'+aoa+'.dat'\n",
    "n,t,cl,cd=np.loadtxt(dataset,skiprows=1,unpack=True)\n",
    "skip=1;\n",
    "ax1.plot(t,beta*cl,'b-',markevery=skip,label=r'Simulation $\\alpha=10$')\n",
    "ax1.plot((t[0],t[len(t)-1]),(clh,clh),'r--',label='Experiment~\\citep{Hansen2011}')\n",
    "ax1.grid(True)\n",
    "ax1.set_ylim(0,1)\n",
    "#plt.xlim(60,64)\n",
    "#ax1.set_yscale\n",
    "ax1.set_ylabel(r'$C_l$',fontsize=16)\n",
    "ax1.set_xlabel(r'$t^*$',fontsize=16)\n",
    "#plt.suptitle(r'$\\alpha='+aoa+'$',fontsize=20)\n",
    "ax1.legend(bbox_to_anchor=(0., 0.02, 0.5, 0.102), loc=3,\n",
    "           ncol=col, borderaxespad=0.)\n",
    "#plt.setp( ax1.get_xticklabels(), visible=False)\n",
    "#plt.subplot(2,1,2,sharex=ax1)\n",
    "ax2=ax1.twinx()\n",
    "ax2.plot(t,beta*cd,markevery=skip)\n",
    "\n",
    "ax2.plot((t[0],t[len(t)-1]),(cdh,cdh),'r--')\n",
    "ax2.grid(True)\n",
    "ax2.set_ylim(0,0.2)\n",
    "#ax2.set_yticks([i*0.04 for i in range(6)])\n",
    "#plt.xlim(60,64)\n",
    "#ax2.set_yscale\n",
    "ax2.set_xlabel(r'$t^*$',fontsize=16)\n",
    "ax2.set_ylabel(r'$C_d$',fontsize=16)\n",
    "#tikz_save(path+'ClCdComparison10.tex',figurewidth = '\\\\textwidth',figureheight = '\\\\textwidth')\n",
    "plt.show()"
   ]
  },
  {
   "cell_type": "code",
   "execution_count": 11,
   "metadata": {
    "collapsed": false
   },
   "outputs": [
    {
     "name": "stdout",
     "output_type": "stream",
     "text": [
      "140\n"
     ]
    }
   ],
   "source": [
    "skp=3500\n",
    "n=len(t)//skp;print(n)\n",
    "ts=np.zeros(n);cls=ts.copy();cds=ts.copy()\n",
    "for i in range(n):\n",
    "    ii=skp*i\n",
    "    ts[i]=t[ii];cls[i]=cl[ii];cds[i]=cd[ii]\n",
    "\n",
    "plt.plot(ts,cls,'b-o');plt.show()"
   ]
  },
  {
   "cell_type": "code",
   "execution_count": 12,
   "metadata": {
    "collapsed": true
   },
   "outputs": [],
   "source": [
    "t=np.zeros(len(ts));cl=t.copy();cd=t.copy()\n",
    "t=ts.copy();cl=cls.copy();cd=cds.copy()"
   ]
  },
  {
   "cell_type": "code",
   "execution_count": 6,
   "metadata": {
    "collapsed": false
   },
   "outputs": [
    {
     "data": {
      "text/plain": [
       "0.0066236254469518065"
      ]
     },
     "execution_count": 6,
     "metadata": {},
     "output_type": "execute_result"
    }
   ],
   "source": [
    "np.var(cl)"
   ]
  },
  {
   "cell_type": "code",
   "execution_count": 7,
   "metadata": {
    "collapsed": true
   },
   "outputs": [],
   "source": [
    "clv=cl-cl.mean()"
   ]
  },
  {
   "cell_type": "code",
   "execution_count": 8,
   "metadata": {
    "collapsed": false
   },
   "outputs": [
    {
     "data": {
      "text/plain": [
       "6.2112250065828095e-27"
      ]
     },
     "execution_count": 8,
     "metadata": {},
     "output_type": "execute_result"
    }
   ],
   "source": [
    "sum(clv)**2/len(clv)"
   ]
  },
  {
   "cell_type": "code",
   "execution_count": 11,
   "metadata": {
    "collapsed": false
   },
   "outputs": [],
   "source": [
    "plt.plot(t,clv**2);plt.show()"
   ]
  },
  {
   "cell_type": "code",
   "execution_count": 12,
   "metadata": {
    "collapsed": false
   },
   "outputs": [
    {
     "data": {
      "text/plain": [
       "0.0066236254469518065"
      ]
     },
     "execution_count": 12,
     "metadata": {},
     "output_type": "execute_result"
    }
   ],
   "source": [
    "np.mean(clv**2)"
   ]
  },
  {
   "cell_type": "code",
   "execution_count": 4,
   "metadata": {
    "collapsed": false
   },
   "outputs": [
    {
     "data": {
      "text/plain": [
       "188560"
      ]
     },
     "execution_count": 4,
     "metadata": {},
     "output_type": "execute_result"
    }
   ],
   "source": [
    "len(cl)"
   ]
  },
  {
   "cell_type": "code",
   "execution_count": null,
   "metadata": {
    "collapsed": true
   },
   "outputs": [],
   "source": []
  }
 ],
 "metadata": {
  "kernelspec": {
   "display_name": "Python 3",
   "language": "python",
   "name": "python3"
  },
  "language_info": {
   "codemirror_mode": {
    "name": "ipython",
    "version": 3
   },
   "file_extension": ".py",
   "mimetype": "text/x-python",
   "name": "python",
   "nbconvert_exporter": "python",
   "pygments_lexer": "ipython3",
   "version": "3.4.3"
  }
 },
 "nbformat": 4,
 "nbformat_minor": 0
}
