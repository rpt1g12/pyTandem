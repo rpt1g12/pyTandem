{
 "cells": [
  {
   "cell_type": "code",
   "execution_count": 1,
   "metadata": {
    "collapsed": false
   },
   "outputs": [],
   "source": [
    "import numpy as np\n",
    "from scipy import signal\n",
    "import matplotlib.pyplot as plt\n",
    "import matplotlib\n",
    "from lib.stats import *\n",
    "from lib.stats import myDFT as myDFT\n",
    "from lib.matplotlib2tikz import save as tikz_save"
   ]
  },
  {
   "cell_type": "code",
   "execution_count": 2,
   "metadata": {
    "collapsed": false
   },
   "outputs": [
    {
     "name": "stdout",
     "output_type": "stream",
     "text": [
      "1.0 0.0 1.44 0.0 0.574\n"
     ]
    }
   ],
   "source": [
    "aoa='20'; A='15'; folder='clean'; nW=''\n",
    "M=0.0;sgs=0;force=0;two=0\n",
    "if 6==(int(float(aoa))):\n",
    "    clh=0.55\n",
    "    cdh=0.042\n",
    "    lfctr=1\n",
    "    dfctr=1\n",
    "    ylim0=clh*(1-lfctr)\n",
    "    ylim1=clh*(1+lfctr)\n",
    "    ylim2=cdh*(1-dfctr)\n",
    "    ylim3=cdh*(1+dfctr)\n",
    "    sgs=0\n",
    "    force=0\n",
    "    col=2\n",
    "    two=0\n",
    "if 10==(int(float(aoa))):\n",
    "    clh=0.89\n",
    "    cdh=0.059\n",
    "    lfctr=1\n",
    "    dfctr=1\n",
    "    ylim0=clh*(1-lfctr)\n",
    "    ylim1=clh*(1+lfctr)\n",
    "    ylim2=cdh*(1-dfctr)\n",
    "    ylim3=cdh*(1+dfctr)\n",
    "    sgs=0\n",
    "    force=0\n",
    "    col=2\n",
    "    two=0\n",
    "if 20==(int(float(aoa))):\n",
    "    clh=0.72\n",
    "    cdh=0.287\n",
    "    if 0==(int(float(A))):\n",
    "        clh=0.64;cdh=0.32\n",
    "    lfctr=1.0\n",
    "    dfctr=1.0\n",
    "    ylim0=clh*(1-lfctr)\n",
    "    ylim1=clh*(1+lfctr)\n",
    "    ylim2=cdh*(1-dfctr)\n",
    "    ylim3=cdh*(1+dfctr)\n",
    "    col=2+sgs+force+two\n",
    "    \n",
    "dataset='clData/'+folder+'/'+nW+'A'+A+'W11AoA'+aoa+'.dat'\n",
    "n,t,cl,cd=np.loadtxt(dataset,skiprows=1,unpack=True)\n",
    "if sgs==1: \n",
    "    dataset='clData/A15W11AoA'+aoa+'sgs.dat'\n",
    "    n2,t2,cl2,cd2=np.loadtxt(dataset,skiprows=1,unpack=True)\n",
    "if force==1: \n",
    "    dataset='clData/A15W11AoA'+aoa+'Forcing.dat'\n",
    "    n3,t3,cl3,cd3=np.loadtxt(dataset,skiprows=1,unpack=True)\n",
    "if two==1: \n",
    "    dataset='clData/'+folder+'/3A15W11AoA'+aoa+'.dat'\n",
    "    n4,t4,cl4,cd4=np.loadtxt(dataset,skiprows=1,unpack=True)\n",
    "beta=(1.0-M**2)**0.5\n",
    "print(beta,ylim0,ylim1,ylim2,ylim3)\n"
   ]
  },
  {
   "cell_type": "code",
   "execution_count": 3,
   "metadata": {
    "collapsed": false
   },
   "outputs": [],
   "source": [
    "plt.figure(figsize=(10,8))\n",
    "ax1=plt.subplot(2,1,1)\n",
    "skip=1\n",
    "plt.plot(t,beta*cl,'b-o',markevery=skip,label='Simulation')\n",
    "if sgs==1:\n",
    "    plt.plot(t2,beta*cl2,markevery=skip,label='SGS')\n",
    "if force==1:\n",
    "    plt.plot(t3,beta*cl3,markevery=skip,label='Forcing') \n",
    "if two==1:\n",
    "    plt.plot(t4,beta*cl4,markevery=skip,label='Double WL')\n",
    "plt.plot((t[0],t[len(t)-1]),(clh,clh),'r--',label='Experiment~\\citep{Hansen2011}')\n",
    "plt.grid(True)\n",
    "plt.ylim(ylim0,ylim1)\n",
    "#plt.xlim(60,64)\n",
    "plt.yscale\n",
    "plt.ylabel(r'$C_l$',fontsize=16)\n",
    "plt.suptitle(r'$\\alpha='+aoa+'$',fontsize=20)\n",
    "plt.legend(bbox_to_anchor=(0., 1.02, 1., .102), loc=3,\n",
    "           ncol=col, mode=\"expand\", borderaxespad=0.)\n",
    "plt.setp( ax1.get_xticklabels(), visible=False)\n",
    "plt.subplot(2,1,2,sharex=ax1)\n",
    "plt.plot(t,beta*cd,markevery=skip)\n",
    "if sgs==1:\n",
    "    plt.plot(t2,beta*cd2,markevery=skip,label='SGS')\n",
    "if force==1:\n",
    "    plt.plot(t3,beta*cd3,markevery=skip,label='Forcing')\n",
    "if two==1:\n",
    "    plt.plot(t4,beta*cd4,markevery=skip,label='Double WL')\n",
    "plt.plot((t[0],t[len(t)-1]),(cdh,cdh),'r--')\n",
    "plt.grid(True)\n",
    "plt.ylim(ylim2,ylim3)\n",
    "#plt.xlim(60,64)\n",
    "plt.yscale\n",
    "plt.xlabel(r'$t^*$',fontsize=16)\n",
    "plt.ylabel(r'$C_d$',fontsize=16)\n",
    "plt.show()"
   ]
  },
  {
   "cell_type": "code",
   "execution_count": 6,
   "metadata": {
    "collapsed": false
   },
   "outputs": [],
   "source": [
    "dataset='clData/HansenClCd.dat'\n",
    "a1,cl1,cd1=np.loadtxt(dataset,skiprows=1,unpack=True)\n",
    "ax2=plt.subplot(2,1,1)\n",
    "plt.plot(a1,cl1,'b-o',markevery=1)\n",
    "plt.grid(True)\n",
    "\n",
    "plt.ylabel(r'$C_l$',fontsize=16)\n",
    "plt.subplot(2,1,2,sharex=ax2)\n",
    "plt.plot(a1,cd1,'b-o',markevery=1)\n",
    "plt.grid(True)\n",
    "plt.xlabel(r'$\\alpha$',fontsize=16)\n",
    "plt.ylabel(r'$C_d$',fontsize=16)\n",
    "plt.show()"
   ]
  },
  {
   "cell_type": "code",
   "execution_count": 13,
   "metadata": {
    "collapsed": false
   },
   "outputs": [],
   "source": [
    "path='/home/rpt1g12/Dropbox/phd/figures/wleResults/'\n",
    "plt.figure(figsize=(12,12))\n",
    "matplotlib.rcParams.update({'font.size': 26})\n",
    "alphaS=[10.0,20.0];\n",
    "clS=[0.892,0.678];cdS=[0.056,0.320]\n",
    "alphaH,clH,cdH=np.loadtxt('clData/HansenClCd.dat',skiprows=1,unpack=True)\n",
    "plt.plot(alphaH,clH,'r--s',label='Exp Hansen et al.',ms=12.0)\n",
    "plt.plot(alphaS,clS,'bo',label='Simulation',ms=12.0)\n",
    "plt.plot(20,1.03,'g^',label='Skillen et al.',ms=12.0)\n",
    "plt.ylim(0.0,1.2)\n",
    "plt.ylabel(r'$C_l$',fontsize=26)\n",
    "plt.xlabel(r'$\\alpha$',fontsize=26)\n",
    "plt.legend(bbox_to_anchor=(0., 0.02, 1.0, .102), loc=3,\n",
    "           ncol=2, borderaxespad=0.,fontsize=26)\n",
    "plt.setp( ax1.get_xticklabels(), visible=False)\n",
    "#tikz_save(path+'ClComparison.tex',figurewidth = '\\\\textwidth',figureheight = '\\\\textwidth')\n",
    "#plt.subplot(2,1,2,sharex=ax1)\n",
    "plt.show()\n",
    "plt.figure(figsize=(12,12))\n",
    "plt.plot(alphaH,cdH,'r--s',ms=12.0)\n",
    "plt.plot(alphaS,cdS,'b-o',ms=12.0)\n",
    "plt.plot(20,0.32,'g^',ms=12.0)\n",
    "plt.xlabel(r'$\\alpha$',fontsize=26)\n",
    "plt.ylabel(r'$C_d$',fontsize=26)\n",
    "#tikz_save(path+'CdComparison.tex',figurewidth = '\\\\textwidth',figureheight = '\\\\textwidth')\n",
    "plt.show()"
   ]
  }
 ],
 "metadata": {
  "kernelspec": {
   "display_name": "Python 3",
   "language": "python",
   "name": "python3"
  },
  "language_info": {
   "codemirror_mode": {
    "name": "ipython",
    "version": 3
   },
   "file_extension": ".py",
   "mimetype": "text/x-python",
   "name": "python",
   "nbconvert_exporter": "python",
   "pygments_lexer": "ipython3",
   "version": "3.4.4"
  }
 },
 "nbformat": 4,
 "nbformat_minor": 0
}
