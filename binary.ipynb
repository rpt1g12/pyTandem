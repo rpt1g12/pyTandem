{
 "cells": [
  {
   "cell_type": "code",
   "execution_count": 1,
   "metadata": {
    "collapsed": false
   },
   "outputs": [],
   "source": [
    "#%matplotlib inline\n",
    "import numpy as np\n",
    "import matplotlib.pyplot as plt\n",
    "import matplotlib\n",
    "from lib.grid import *"
   ]
  },
  {
   "cell_type": "code",
   "execution_count": 46,
   "metadata": {
    "collapsed": false
   },
   "outputs": [],
   "source": [
    "def f(lxi,let,lze,cgrid):\n",
    "    ltomb=(lxi+1)*(let+1)*(lze+1)\n",
    "    k8=np.float32; lk8=np.dtype(k8).itemsize\n",
    "    fh=open('/home/rpt1g12/fortran/mpiIO/'+cgrid+'.dat','rb')\n",
    "    x=np.fromfile(fh,dtype=k8,count=ltomb)\n",
    "    #fh.seek(lk8*ltomb)\n",
    "    y=np.fromfile(fh,dtype=k8,count=ltomb)\n",
    "    #fh.seek(lk8*ltomb*2)\n",
    "    z=np.fromfile(fh,dtype=k8,count=ltomb)\n",
    "    fh.close()\n",
    "    x=np.reshape(x,(lxi+1,let+1,lze+1),'F')\n",
    "    y=np.reshape(y,(lxi+1,let+1,lze+1),'F')\n",
    "    z=np.reshape(z,(lxi+1,let+1,lze+1),'F')\n",
    "    plotgrid(x[:,:,0],y[:,:,0],drw=1,shw=0)"
   ]
  },
  {
   "cell_type": "code",
   "execution_count": 51,
   "metadata": {
    "collapsed": false
   },
   "outputs": [],
   "source": [
    "for i in range(4):\n",
    "    g='ngrid'+str(i)\n",
    "    f(249,249,15,g);\n",
    "plt.show()"
   ]
  },
  {
   "cell_type": "code",
   "execution_count": null,
   "metadata": {
    "collapsed": true
   },
   "outputs": [],
   "source": []
  }
 ],
 "metadata": {
  "kernelspec": {
   "display_name": "Python 3",
   "language": "python",
   "name": "python3"
  },
  "language_info": {
   "codemirror_mode": {
    "name": "ipython",
    "version": 3
   },
   "file_extension": ".py",
   "mimetype": "text/x-python",
   "name": "python",
   "nbconvert_exporter": "python",
   "pygments_lexer": "ipython3",
   "version": "3.4.3"
  }
 },
 "nbformat": 4,
 "nbformat_minor": 0
}
