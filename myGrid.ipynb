{
 "cells": [
  {
   "cell_type": "code",
   "execution_count": 1,
   "metadata": {
    "collapsed": false
   },
   "outputs": [],
   "source": [
    "from lib.grid import *\n",
    "import numpy as np"
   ]
  },
  {
   "cell_type": "code",
   "execution_count": 21,
   "metadata": {
    "collapsed": false
   },
   "outputs": [],
   "source": [
    "lxi=51;let=101\n",
    "c0=corner(-7.0,-5.0);c1=corner(-2.0,-5.0);\n",
    "c2=corner(-7.0,0.0);c3=corner(0.0,0.0)\n",
    "l0=line(lxi,c0,c1,0)\n",
    "l1=line(lxi,c2,c3,0)\n",
    "l2=line(let,c0,c2,1)\n",
    "l3=line(let,c1,c3,1)\n",
    "l3.c1.dxdy=1.0\n",
    "l3.c1.dydet*=0.1\n",
    "l2.c1.dydet*=0.1\n",
    "l3.c0.dxdy=0.0\n",
    "l3.getPoints()\n",
    "# l2.getPoints()"
   ]
  },
  {
   "cell_type": "code",
   "execution_count": 12,
   "metadata": {
    "collapsed": false
   },
   "outputs": [],
   "source": [
    "lxi=101;let=101\n",
    "c4=corner(2.0,-5.0)\n",
    "c5=corner(2.0,0.0)\n",
    "c6=c1.clone()\n",
    "c7=c3.clone()\n",
    "l4=line(lxi,c6,c4,0)\n",
    "l5=line(lxi,c7,c5,0,naca=-21.0)\n",
    "l6=line(let,c4,c5,1)\n",
    "l6.c1.dydet*=0.1\n",
    "l6.getPoints()\n",
    "l4.c0.dxdxi=l4.c0.dxdxi\n",
    "l5.c0.dxdxi=l5.c0.dxdxi/2\n",
    "l4.c1.dxdxi=l4.c1.dxdxi\n",
    "l5.c1.dxdxi=l5.c1.dxdxi\n",
    "l4.getPoints()\n",
    "l5.getPoints()\n",
    "l0.c1.dxdxi=1.0*l4.c0.dxdxi\n",
    "l1.c1.dxdxi=np.sqrt((l5.x[1]-l5.x[0])**2+(l5.y[1]-l5.y[0])**2)\n",
    "# l1.c0.dydx=0.0\n",
    "# l1.c1.dydx=0.0\n",
    "l0.getPoints()\n",
    "l1.getPoints()"
   ]
  },
  {
   "cell_type": "code",
   "execution_count": 22,
   "metadata": {
    "collapsed": true
   },
   "outputs": [],
   "source": [
    "b0=block(l0,l1,l2,l3)\n",
    "b0.draw(0,0)"
   ]
  },
  {
   "cell_type": "code",
   "execution_count": null,
   "metadata": {
    "collapsed": false
   },
   "outputs": [],
   "source": [
    "b1=block(l4,l5,l3,l6)\n",
    "b1.draw()"
   ]
  },
  {
   "cell_type": "code",
   "execution_count": 8,
   "metadata": {
    "collapsed": false
   },
   "outputs": [],
   "source": [
    "b1.bs.plot()"
   ]
  },
  {
   "cell_type": "code",
   "execution_count": 14,
   "metadata": {
    "collapsed": false
   },
   "outputs": [],
   "source": [
    "dxdxi=np.mat(l5.x[3:8])*((1.0/12)*np.matrix([[3,-16,36,-48,25]]).T )\n",
    "dxdxi=dxdxi[0,0]"
   ]
  },
  {
   "cell_type": "code",
   "execution_count": 8,
   "metadata": {
    "collapsed": false
   },
   "outputs": [],
   "source": [
    "b2=copy.copy(b0)"
   ]
  }
 ],
 "metadata": {
  "kernelspec": {
   "display_name": "Python 3",
   "language": "python",
   "name": "python3"
  },
  "language_info": {
   "codemirror_mode": {
    "name": "ipython",
    "version": 3
   },
   "file_extension": ".py",
   "mimetype": "text/x-python",
   "name": "python",
   "nbconvert_exporter": "python",
   "pygments_lexer": "ipython3",
   "version": "3.4.3"
  }
 },
 "nbformat": 4,
 "nbformat_minor": 0
}
