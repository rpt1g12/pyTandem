{
 "cells": [
  {
   "cell_type": "code",
   "execution_count": 1,
   "metadata": {
    "collapsed": false
   },
   "outputs": [],
   "source": [
    "from lib.grid import *\n",
    "import numpy as np"
   ]
  },
  {
   "cell_type": "code",
   "execution_count": 2,
   "metadata": {
    "collapsed": false
   },
   "outputs": [],
   "source": [
    "lxi=51;let=51\n",
    "c0=corner(-7.0,-5.0);c1=corner(-2.0,-5.0);\n",
    "c2=corner(-7.0,0.0);c3=corner(0.0,0.0)\n",
    "l0=line(lxi,c0,c1,0)\n",
    "l1=line(lxi,c2,c3,0)\n",
    "l2=line(let,c0,c2,1)\n",
    "l3=line(let,c1,c3,1)\n",
    "l3.c1.dxdy=1.0\n",
    "l3.c1.dydet*=0.1\n",
    "l2.c1.dydet*=0.1\n",
    "l3.c0.dxdy=0.0\n",
    "l3.getPoints()\n",
    "# l2.getPoints()"
   ]
  },
  {
   "cell_type": "code",
   "execution_count": 3,
   "metadata": {
    "collapsed": false
   },
   "outputs": [],
   "source": [
    "lxi=101;let=51\n",
    "c4=corner(2.0,-5.0)\n",
    "c5=corner(2.0,0.0)\n",
    "c6=c1.clone()\n",
    "c7=c3.clone()\n",
    "l4=line(lxi,c6,c4,0)\n",
    "l5=line(lxi,c7,c5,0,naca=-21.0)\n",
    "l6=line(let,c4,c5,1)\n",
    "l6.c1.dydet*=0.1\n",
    "l6.getPoints()\n",
    "l4.c0.dxdxi=l4.c0.dxdxi\n",
    "l5.c0.dxdxi=l5.c0.dxdxi/2\n",
    "l4.c1.dxdxi=l4.c1.dxdxi\n",
    "l5.c1.dxdxi=l5.c1.dxdxi\n",
    "l4.getPoints()\n",
    "l5.getPoints()\n",
    "l0.c1.dxdxi=1.0*l4.c0.dxdxi\n",
    "l1.c1.dxdxi=np.sqrt((l5.x[1]-l5.x[0])**2+(l5.y[1]-l5.y[0])**2)\n",
    "l0.getPoints()\n",
    "l1.getPoints()"
   ]
  },
  {
   "cell_type": "code",
   "execution_count": 4,
   "metadata": {
    "collapsed": false
   },
   "outputs": [],
   "source": [
    "lxi=51;let=51\n",
    "c8=c4.clone()\n",
    "c9=corner(12.0,-5.0)\n",
    "c10=c5.clone();\n",
    "c11=corner(12.0,0.0)\n",
    "l7=line(lxi,c8,c9,0);l8=line(lxi,c10,c11,0)\n",
    "l9=line(let,c9,c11,1)\n",
    "l7.c0.dxdxi=l4.c1.dxdxi\n",
    "l8.c0.dxdxi=l5.c1.dxdxi\n",
    "l8.getPoints()\n",
    "l7.getPoints()"
   ]
  },
  {
   "cell_type": "code",
   "execution_count": 5,
   "metadata": {
    "collapsed": true
   },
   "outputs": [],
   "source": [
    "b0=block(l0,l1,l2,l3)\n",
    "b0.draw(0,0)"
   ]
  },
  {
   "cell_type": "code",
   "execution_count": 6,
   "metadata": {
    "collapsed": false
   },
   "outputs": [],
   "source": [
    "b1=block(l4,l5,l3,l6)\n",
    "b1.draw(0,0)"
   ]
  },
  {
   "cell_type": "code",
   "execution_count": 7,
   "metadata": {
    "collapsed": false
   },
   "outputs": [],
   "source": [
    "b2=block(l7,l8,l6,l9)\n",
    "b2.draw()"
   ]
  },
  {
   "cell_type": "code",
   "execution_count": 8,
   "metadata": {
    "collapsed": false
   },
   "outputs": [],
   "source": [
    "fh=open('/home/rperezt/anaconda3/tandemProject/grid.dat','wb')\n",
    "bw=b2"
   ]
  },
  {
   "cell_type": "code",
   "execution_count": 9,
   "metadata": {
    "collapsed": false
   },
   "outputs": [],
   "source": [
    "hdr=np.int32(np.array([1,bw.lxi,bw.let,1]))"
   ]
  },
  {
   "cell_type": "code",
   "execution_count": 10,
   "metadata": {
    "collapsed": false
   },
   "outputs": [
    {
     "data": {
      "text/plain": [
       "16"
      ]
     },
     "execution_count": 10,
     "metadata": {},
     "output_type": "execute_result"
    }
   ],
   "source": [
    "fh.write(hdr)\n"
   ]
  },
  {
   "cell_type": "code",
   "execution_count": 11,
   "metadata": {
    "collapsed": false
   },
   "outputs": [
    {
     "data": {
      "text/plain": [
       "10404"
      ]
     },
     "execution_count": 11,
     "metadata": {},
     "output_type": "execute_result"
    }
   ],
   "source": [
    "fh.write(np.float32(bw.x))\n",
    "fh.write(np.float32(bw.y))\n",
    "z=np.zeros((bw.let,b2.let))\n",
    "fh.write(np.float32(z))"
   ]
  },
  {
   "cell_type": "code",
   "execution_count": 12,
   "metadata": {
    "collapsed": true
   },
   "outputs": [],
   "source": [
    "fh.close()"
   ]
  },
  {
   "cell_type": "code",
   "execution_count": null,
   "metadata": {
    "collapsed": true
   },
   "outputs": [],
   "source": []
  }
 ],
 "metadata": {
  "kernelspec": {
   "display_name": "Python 3",
   "language": "python",
   "name": "python3"
  },
  "language_info": {
   "codemirror_mode": {
    "name": "ipython",
    "version": 3
   },
   "file_extension": ".py",
   "mimetype": "text/x-python",
   "name": "python",
   "nbconvert_exporter": "python",
   "pygments_lexer": "ipython3",
   "version": "3.4.3"
  }
 },
 "nbformat": 4,
 "nbformat_minor": 0
}
