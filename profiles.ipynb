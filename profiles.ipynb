{
 "cells": [
  {
   "cell_type": "code",
   "execution_count": 1,
   "metadata": {
    "collapsed": true
   },
   "outputs": [],
   "source": [
    "import numpy as np\n",
    "from scipy.signal import coherence as msc\n",
    "from scipy.signal import welch as psdw\n",
    "from scipy import signal as sgl\n",
    "from scipy import interpolate\n",
    "import matplotlib.pyplot as plt\n",
    "import matplotlib\n",
    "from lib.stats import *\n",
    "from lib.matplotlib2tikz import save as tikz_save"
   ]
  },
  {
   "cell_type": "code",
   "execution_count": null,
   "metadata": {
    "collapsed": false
   },
   "outputs": [],
   "source": [
    "path='profiles/SIT/AoA10/trough/profile'\n",
    "path2='/home/rpt1g12/Dropbox/phd/figures/wleResults/'\n",
    "for n in range(3,10):\n",
    "    dataset=path+str(n)+'.dat'\n",
    "    #prf=[]#np.zeros()\n",
    "    cp=np.loadtxt(dataset,skiprows=1,unpack=True,usecols=range(1))\n",
    "    cp = cp[~np.isnan(cp)]\n",
    "    uin=np.loadtxt(dataset,skiprows=1,unpack=True,usecols=range(1,4))\n",
    "    rho=np.loadtxt(dataset,skiprows=1,unpack=True,usecols=range(4,5))\n",
    "    rho = rho[~np.isnan(rho)]\n",
    "    xin=np.loadtxt(dataset,skiprows=1,unpack=True,usecols=range(9,12))\n",
    "    for i in range(uin.shape[0]):    \n",
    "        x1 = xin[i,:][~np.isnan(uin[i,:])]\n",
    "        if (i==0): x=np.zeros((3,len(x1)));u=x.copy()\n",
    "        x[i,:]=x1\n",
    "        x1 = uin[i,:][~np.isnan(uin[i,:])]\n",
    "        u[i,:]=x1\n",
    "    var=np.sqrt(u[0,:]*u[0,:]+u[1,:]*u[1,:]+u[2,:]*u[2,:])\n",
    "    if (n==0): k=1#0.01/np.absolute(var.max())\n",
    "    varp=var#*k+x[0,:]\n",
    "    plt.plot(varp,x[1,:],label=r'$x/L_c=$'+str(x[0,0]))\n",
    "    #plt.plot(varp,range(len(varp)),label='x='+str(x[0,0]))\n",
    "#plt.xlabel(r'$x/L_c$')\n",
    "plt.xlabel(r'$<C_p>$')\n",
    "plt.ylabel(r'$y/L_c$')\n",
    "#plt.ylabel(r'$l$')\n",
    "plt.legend()\n",
    "#plt.title(r'$|U|$ profiles')\n",
    "#tikz_save(path2+'twleCpPrfT10.tex',figurewidth = '\\\\textwidth',figureheight = '\\\\textwidth')\n",
    "plt.show()"
   ]
  },
  {
   "cell_type": "code",
   "execution_count": 49,
   "metadata": {
    "collapsed": false
   },
   "outputs": [
    {
     "data": {
      "text/plain": [
       "201"
      ]
     },
     "execution_count": 49,
     "metadata": {},
     "output_type": "execute_result"
    }
   ],
   "source": [
    "len(rho)"
   ]
  },
  {
   "cell_type": "code",
   "execution_count": null,
   "metadata": {
    "collapsed": true
   },
   "outputs": [],
   "source": []
  }
 ],
 "metadata": {
  "kernelspec": {
   "display_name": "Python 3",
   "language": "python",
   "name": "python3"
  },
  "language_info": {
   "codemirror_mode": {
    "name": "ipython",
    "version": 3
   },
   "file_extension": ".py",
   "mimetype": "text/x-python",
   "name": "python",
   "nbconvert_exporter": "python",
   "pygments_lexer": "ipython3",
   "version": "3.4.3"
  }
 },
 "nbformat": 4,
 "nbformat_minor": 0
}
