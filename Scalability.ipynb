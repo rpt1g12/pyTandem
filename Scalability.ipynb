{
 "cells": [
  {
   "cell_type": "code",
   "execution_count": 1,
   "metadata": {
    "collapsed": false
   },
   "outputs": [],
   "source": [
    "import xlrd\n",
    "import matplotlib.pyplot as plt\n",
    "import numpy as np\n",
    "from lib.matplotlib2tikz import save as tikz_save"
   ]
  },
  {
   "cell_type": "code",
   "execution_count": 2,
   "metadata": {
    "collapsed": false
   },
   "outputs": [],
   "source": [
    "book=xlrd.open_workbook('/home/rpt1g12/Dropbox/phd/excel/GridPoints.xls')\n",
    "sheet=book.sheet_by_index(3)"
   ]
  },
  {
   "cell_type": "code",
   "execution_count": 3,
   "metadata": {
    "collapsed": false
   },
   "outputs": [
    {
     "data": {
      "text/plain": [
       "'E'"
      ]
     },
     "execution_count": 3,
     "metadata": {},
     "output_type": "execute_result"
    }
   ],
   "source": [
    "p=sheet.col_values(0)\n",
    "p.pop(0)\n",
    "s=sheet.col_values(5)\n",
    "s.pop(0)\n",
    "r=sheet.col_values(6)\n",
    "r.pop(0)\n",
    "e=sheet.col_values(7)\n",
    "e.pop(0)"
   ]
  },
  {
   "cell_type": "code",
   "execution_count": 9,
   "metadata": {
    "collapsed": false
   },
   "outputs": [
    {
     "name": "stdout",
     "output_type": "stream",
     "text": [
      "file encoding: UTF-8\n",
      "Problem during transformation, continuing with original data\n",
      "Problem during transformation, continuing with original data\n",
      "Problem during transformation, continuing with original data\n",
      "Problem during transformation, continuing with original data\n",
      "Problem during transformation, continuing with original data\n",
      "Problem during transformation, continuing with original data\n",
      "Problem during transformation, continuing with original data\n",
      "Problem during transformation, continuing with original data\n",
      "Problem during transformation, continuing with original data\n",
      "Problem during transformation, continuing with original data\n",
      "=========================================================\n",
      "Please add the following line to your LaTeX preamble:\n",
      "\n",
      "\\usepackage{pgfplots}\n",
      "\\usepgfplotslibrary{plotmarks}\n",
      "=========================================================\n"
     ]
    }
   ],
   "source": [
    "plt.plot(p,s,'b-s',label='Iridis4',linewidth=2.0,ms=10)\n",
    "plt.plot(p,r,'r--',label='Linear',linewidth=2.0)\n",
    "plt.ylabel(r'$S_u$',fontsize=20)\n",
    "plt.xlabel(r'$n_p$',fontsize=20)\n",
    "plt.legend(bbox_to_anchor=(0., 1.02, 1., .102), loc=3,\n",
    "    ncol=2, mode=\"expand\", borderaxespad=0.)       \n",
    "plt.grid(True)\n",
    "tikz_save('speedup.tex',figurewidth = '\\\\textwidth')\n",
    "plt.show()"
   ]
  },
  {
   "cell_type": "code",
   "execution_count": 10,
   "metadata": {
    "collapsed": false
   },
   "outputs": [
    {
     "name": "stdout",
     "output_type": "stream",
     "text": [
      "file encoding: UTF-8\n",
      "Problem during transformation, continuing with original data\n",
      "Problem during transformation, continuing with original data\n",
      "Problem during transformation, continuing with original data\n",
      "Problem during transformation, continuing with original data\n",
      "Problem during transformation, continuing with original data\n",
      "Problem during transformation, continuing with original data\n",
      "Problem during transformation, continuing with original data\n",
      "Problem during transformation, continuing with original data\n",
      "Problem during transformation, continuing with original data\n",
      "=========================================================\n",
      "Please add the following line to your LaTeX preamble:\n",
      "\n",
      "\\usepackage{pgfplots}\n",
      "\\usepgfplotslibrary{plotmarks}\n",
      "=========================================================\n"
     ]
    }
   ],
   "source": [
    "plt.plot(p,e,'b-s',label='Iridis4',linewidth=2.0,ms=10)\n",
    "plt.ylabel(r'$P_{eff}$',fontsize=20)\n",
    "plt.xlabel(r'$n_p$',fontsize=20)\n",
    "plt.grid(True)\n",
    "tikz_save('pEff.tex',figurewidth = '\\\\textwidth')\n",
    "plt.show()"
   ]
  },
  {
   "cell_type": "code",
   "execution_count": null,
   "metadata": {
    "collapsed": false
   },
   "outputs": [],
   "source": []
  }
 ],
 "metadata": {
  "kernelspec": {
   "display_name": "Python 3",
   "language": "python",
   "name": "python3"
  },
  "language_info": {
   "codemirror_mode": {
    "name": "ipython",
    "version": 3
   },
   "file_extension": ".py",
   "mimetype": "text/x-python",
   "name": "python",
   "nbconvert_exporter": "python",
   "pygments_lexer": "ipython3",
   "version": "3.4.3"
  }
 },
 "nbformat": 4,
 "nbformat_minor": 0
}
