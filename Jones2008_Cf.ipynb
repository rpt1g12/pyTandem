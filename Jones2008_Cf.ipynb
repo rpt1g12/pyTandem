{
 "metadata": {
  "name": "",
  "signature": "sha256:2daf5d6246c411ce18ba17f8c08434f130d5920f83088af3116d1b1cb4e31c86"
 },
 "nbformat": 3,
 "nbformat_minor": 0,
 "worksheets": [
  {
   "cells": [
    {
     "cell_type": "code",
     "collapsed": false,
     "input": [
      "from lib.plots2d import *\n",
      "import matplotlib.pyplot as plt\n",
      "import numpy as np\n",
      "import lib.stats as stats\n",
      "import lib.indx as indx"
     ],
     "language": "python",
     "metadata": {},
     "outputs": [],
     "prompt_number": 2
    },
    {
     "cell_type": "code",
     "collapsed": false,
     "input": [
      "p1=plot2d('cfData/Cf_forced50.dat')\n",
      "p2=plot2d('cfData/Cf_inflow75.dat')\n",
      "p3=plot2d('cfData/Cf_grid2force50.dat')\n",
      "p4=plot2d('cfData/Cf_grid3force100.dat')\n",
      "p5=plot2d('cfData/Cf_grid4force100.dat')\n",
      "p1.x+=0.5\n",
      "p2.x+=0.5\n",
      "p3.x+=0.5\n",
      "p4.x+=0.5\n",
      "p5.x+=0.5\n",
      "span=0.2\n",
      "h=span/50\n",
      "h2=span/75\n",
      "h3=0.22/100.0\n",
      "p3y=p3.y[:]*0.4"
     ],
     "language": "python",
     "metadata": {},
     "outputs": [],
     "prompt_number": 3
    },
    {
     "cell_type": "code",
     "collapsed": false,
     "input": [
      "z=np.array([i*h-0.1 for i in range(0,51)])\n",
      "z2=np.array([i*h2-0.1 for i in range(0,76)])\n",
      "z3=np.array([i*h3-0.1 for i in range(0,101)])\n",
      "r=z[:]*0.0\n",
      "r2=z2[:]*0.0\n",
      "r3=z3[:]*0.0\n",
      "u=np.array([0.0 for i in range(0,151)])\n",
      "v=np.array([0.0 for i in range(0,151)])\n",
      "w=np.array([0.0 for i in range(0,201)])\n",
      "w3=np.array([0.0 for i in range(0,301)])\n",
      "w2=np.array([0.0 for i in range(0,201)])\n",
      "w4=np.array([0.0 for i in range(0,321)])"
     ],
     "language": "python",
     "metadata": {},
     "outputs": [],
     "prompt_number": 4
    },
    {
     "cell_type": "code",
     "collapsed": false,
     "input": [
      "for i in range(0,151):\n",
      "    for k in range(0,51):\n",
      "        l=indx.wall(i,k,150)\n",
      "        r[k]=p1.y[l]\n",
      "    u[i]=stats.avg(r,z)\n",
      "for i in range(0,151):\n",
      "    for k in range(0,51):\n",
      "        l=indx.wall(i,k,150)\n",
      "        r[k]=p2.y[l]\n",
      "    v[i]=stats.avg(r,z)\n",
      "for i in range(0,201):\n",
      "    for k in range(0,51):\n",
      "        l=indx.wall(i,k,200)\n",
      "        r[k]=p3.y[l]\n",
      "    w[i]=stats.avg(r,z)\n",
      "for i in range(0,201):\n",
      "    for k in range(0,76):\n",
      "        l=indx.wall(i,k,200)\n",
      "        r2[k]=p4.y[l]\n",
      "    w2[i]=stats.avg(r,z)\n",
      "for i in range(0,301):\n",
      "    for k in range(0,76):\n",
      "        l=indx.wall(i,k,300)\n",
      "        r2[k]=p5.y[l]\n",
      "    w3[i]=stats.avg(r,z)"
     ],
     "language": "python",
     "metadata": {},
     "outputs": [],
     "prompt_number": 6
    },
    {
     "cell_type": "code",
     "collapsed": false,
     "input": [
      "px,py=np.loadtxt('cfData/plot.dat',skiprows=1,unpack=True)"
     ],
     "language": "python",
     "metadata": {},
     "outputs": [],
     "prompt_number": 7
    },
    {
     "cell_type": "code",
     "collapsed": false,
     "input": [
      "plt.rc('text', usetex=False)\n",
      "plt.rc('font', family='serif')\n",
      "plt.subplot(111)\n",
      "plt.plot(p1.x[0:151],u,'b-s',label='Forced',linewidth=3.0,markevery=5)\n",
      "plt.plot(p2.x[0:151],v,'r-d',label='Inflow',linewidth=3.0,markevery=5)\n",
      "#plt.plot(p3.x[0:201],w,'g-^',label='G2',linewidth=3.0,markevery=5)\n",
      "#plt.plot(p4.x[0:201],w2,'r-s',label='G3',linewidth=3.0,markevery=5)\n",
      "#plt.plot(p5.x[0:301],w3,'c-d',label='G4',linewidth=3.0,markevery=5)\n",
      "plt.plot(px,py,'ko',label='3DU',markersize=5.0)\n",
      "plt.legend(bbox_to_anchor=(0., 1.02, 1., .102),\n",
      "           loc=3,ncol=3,\n",
      "           mode=\"expand\", borderaxespad=0.)\n",
      "#plt.legend(bbox_to_anchor=(1.05, 1), loc=2, borderaxespad=0.)\n",
      "plt.grid(True)\n",
      "#plt.gca().invert_yaxis()\n",
      "plt.gca().yaxis.set_ticks(np.arange(-0.02, 0.09, 0.01))\n",
      "plt.xlabel(r'$x/L_c$',fontsize=16)\n",
      "plt.ylim([-0.02,0.02])\n",
      "plt.ylabel(r'$C_f$',fontsize=16)\n",
      "plt.show()"
     ],
     "language": "python",
     "metadata": {},
     "outputs": [],
     "prompt_number": 10
    }
   ],
   "metadata": {}
  }
 ]
}