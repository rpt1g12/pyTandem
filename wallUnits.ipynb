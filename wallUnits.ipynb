{
 "cells": [
  {
   "cell_type": "code",
   "execution_count": 1,
   "metadata": {
    "collapsed": true
   },
   "outputs": [],
   "source": [
    "import numpy as np\n",
    "from scipy.signal import coherence as msc\n",
    "from scipy.signal import welch as psdw\n",
    "from scipy import signal as sgl\n",
    "from scipy import interpolate\n",
    "import matplotlib.pyplot as plt\n",
    "import matplotlib\n",
    "from lib.stats import *\n",
    "from lib.stats import myDFT as myDFT\n",
    "from lib.matplotlib2tikz import save as tikz_save\n",
    "import itertools\n",
    "marker = ['s', 'o', 'd', 'v', '^']\n",
    "color = ['b-', 'r-', 'g-', 'm-', 'c-']"
   ]
  },
  {
   "cell_type": "code",
   "execution_count": 2,
   "metadata": {
    "collapsed": true
   },
   "outputs": [],
   "source": [
    "lxi=315\n",
    "def indx(i,k,lxi):\n",
    "    \"\"\"returns index on the wall arrays\"\"\"\n",
    "    l=k*(lxi+1)+i\n",
    "    return l "
   ]
  },
  {
   "cell_type": "code",
   "execution_count": 3,
   "metadata": {
    "collapsed": false
   },
   "outputs": [],
   "source": [
    "dataset='wallUnits/clean/AoA20/wplus.dat'\n",
    "x,y,z,xp,yp,zp=np.loadtxt(dataset,skiprows=1,unpack=True)"
   ]
  },
  {
   "cell_type": "code",
   "execution_count": 19,
   "metadata": {
    "collapsed": false
   },
   "outputs": [],
   "source": [
    "wu=yp\n",
    "opt=5;skip=5\n",
    "if (opt==0):\n",
    "    secs=range(9)\n",
    "elif (opt==1):\n",
    "    secs=[0,2,4,6,8]\n",
    "elif (opt==2):\n",
    "    secs=[1,5]\n",
    "elif (opt==3):    \n",
    "    secs=[3,7]\n",
    "elif (opt==4):    \n",
    "    secs=[0]\n",
    "elif (opt==5): \n",
    "    secs=[1,3,5,7]\n",
    "j=0\n",
    "for i in secs:\n",
    "    m=int(round(12.5*i))\n",
    "    if (i%2==0):\n",
    "        countm=i//2+1\n",
    "        cs=\"M\"\n",
    "        cs+=str(countm)\n",
    "    else:\n",
    "        if((i//2)%2==0):\n",
    "            countp=i//4+1\n",
    "            cs=\"P\"\n",
    "            cs+=str(countp)\n",
    "        else:\n",
    "            countt=i//4+1\n",
    "            cs=\"T\"\n",
    "            cs+=str(countt)\n",
    "    k=m\n",
    "    ls=indx(0,k,lxi);le=indx(lxi,k,lxi)\n",
    "    plt.plot(x[ls:le],wu[ls:le],color[j]+marker[j],markevery=skip,label=cs)\n",
    "    j+=1\n",
    "    if(j>4): j=0\n",
    "plt.xlabel(r'$x/L_c$',fontsize=20)\n",
    "plt.ylabel(r'$z^+$',fontsize=20)\n",
    "plt.legend()\n",
    "savepath='/home/rpt1g12/Dropbox/phd/figures/pgrAFM/zplus.pdf'\n",
    "#plt.savefig(savepath,dpi=300)\n",
    "plt.show()"
   ]
  },
  {
   "cell_type": "code",
   "execution_count": null,
   "metadata": {
    "collapsed": true
   },
   "outputs": [],
   "source": []
  }
 ],
 "metadata": {
  "kernelspec": {
   "display_name": "Python 3",
   "language": "python",
   "name": "python3"
  },
  "language_info": {
   "codemirror_mode": {
    "name": "ipython",
    "version": 3
   },
   "file_extension": ".py",
   "mimetype": "text/x-python",
   "name": "python",
   "nbconvert_exporter": "python",
   "pygments_lexer": "ipython3",
   "version": "3.4.3"
  }
 },
 "nbformat": 4,
 "nbformat_minor": 0
}
